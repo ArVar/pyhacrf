{
 "metadata": {
  "name": "",
  "signature": "sha256:2008890a7aa87e857a8a2b354a653dee927e149dbb1abb35fd56e298964ae20a"
 },
 "nbformat": 3,
 "nbformat_minor": 0,
 "worksheets": [
  {
   "cells": [
    {
     "cell_type": "code",
     "collapsed": false,
     "input": [
      "%load_ext vimception"
     ],
     "language": "python",
     "metadata": {},
     "outputs": [
      {
       "javascript": [
        "\n",
        "var cmd = IPython.keyboard_manager.command_shortcuts;\n",
        "var edit = IPython.keyboard_manager.edit_shortcuts;\n",
        "var def_cmd = IPython.default_command_shortcuts;\n",
        "var def_edit = IPython.default_edit_shortcuts;\n",
        "\n",
        "// get the code mirror editor of a curently selected cell\n",
        "function C() { return IPython.notebook.get_selected_cell().code_mirror; };\n",
        "\n",
        "// Change the mode of all current and future CodeMirror instances\n",
        "// Emacs users can use this function as just to('emacs') so long as they've\n",
        "// required/loaded emacs.js from CodeMirror\n",
        "function to(mode) {\n",
        "    var mode = mode || 'vim'\n",
        "    // first let's apply vim mode to all current cells\n",
        "    function to_mode(c) { return c.code_mirror.setOption('keyMap', mode);};\n",
        "    IPython.notebook.get_cells().map(to_mode);\n",
        "    // apply the mode to future cells created\n",
        "    IPython.Cell.options_default.cm_config.keyMap = mode;\n",
        "}\n",
        "\n",
        "function getCSS(path) {\n",
        "    $('<link/>', {\n",
        "       rel: 'stylesheet',\n",
        "       type: 'text/css',\n",
        "       href: path,\n",
        "    }).appendTo('head');\n",
        "}\n",
        "\n",
        "// I messed around with trying to get requireJS going here, but gave up and\n",
        "// just using this answer from SO \n",
        "// http://stackoverflow.com/questions/11803215/how-to-include-multiple-js-files-using-jquery-getscript-method\n",
        "\n",
        "var p = \"/static/components/codemirror/addon/\";\n",
        "\n",
        "$.when(\n",
        "// Grab the CodeMirror vim keymap\n",
        "$.getScript(p + \"../keymap/vim.js\"),\n",
        "// also make search work via /\n",
        "$.getScript(p + \"search/search.js\"),\n",
        "$.getScript(p + \"search/searchcursor.js\"),\n",
        "\n",
        "// TODO: hook-up gq to perform a harwrap\n",
        "$.getScript(p + \"wrap/hardwrap.js\"),\n",
        "$.getScript(p + \"selection/active-line.js\"),\n",
        "\n",
        "$.getScript(p + \"display/fullscreen.js\"),\n",
        "getCSS(p + \"display/fullscreen.css\"),\n",
        "getCSS(p + \"dialog/dialog.css\"),\n",
        "$.getScript(p + \"dialog/dialog.js\"),\n",
        "\n",
        "\n",
        "    $.Deferred(function( deferred ){\n",
        "        $( deferred.resolve );\n",
        "    })\n",
        ").then(function success(){\n",
        "\n",
        "console.log('Great success');\n",
        "\n",
        "IPython.CodeCell.options_default.cm_config.foldGutter = true;\n",
        "IPython.CodeCell.options_default.cm_config.gutters =  [\"CodeMirror-linenumbers\", \"CodeMirror-foldgutter\"];\n",
        "\n",
        "IPython.Cell.prototype.at_top = function () {\n",
        "        var cm = this.code_mirror;\n",
        "        var cursor = cm.getCursor();\n",
        "        if (cursor.line === 0) {\n",
        "            return true;\n",
        "        }\n",
        "        return false;\n",
        "    };\n",
        "\n",
        "\n",
        "IPython.Cell.prototype.at_bottom = function () {\n",
        "    var cm = this.code_mirror;\n",
        "    var cursor = cm.getCursor();\n",
        "    if (cursor.line === (cm.lineCount()-1)) {\n",
        "        return true;\n",
        "    }\n",
        "    return false;\n",
        "};\n",
        "// on all code mirror instances on this page, apply the function f\n",
        "function all_cm(f) {\n",
        "    // apply f to every code mirror instance. f takes one parameter\n",
        "    IPython.notebook.get_cells().map(function (c) { f(c.code_mirror); } );\n",
        "}\n",
        "\n",
        "\n",
        "to('vim');\n",
        "function vim_up(event) {\n",
        "    var cell = IPython.notebook.get_selected_cell();\n",
        "    if (cell && cell.at_top() && cell.code_mirror.options.keyMap === 'vim') {\n",
        "        console.log('inside the business logic k');\n",
        "        event.preventDefault();\n",
        "        IPython.notebook.command_mode()\n",
        "        IPython.notebook.select_prev();\n",
        "        IPython.notebook.edit_mode();\n",
        "        return false;\n",
        "    };\n",
        "}\n",
        "\n",
        "function vim_down(event) {\n",
        "            var cell = IPython.notebook.get_selected_cell();\n",
        "            if (cell && cell.at_bottom() && cell.code_mirror.options.keyMap === 'vim') {\n",
        "                event.preventDefault();\n",
        "                IPython.notebook.command_mode()\n",
        "                IPython.notebook.select_next();\n",
        "                IPython.notebook.edit_mode();\n",
        "                return false;\n",
        "            };\n",
        "        }\n",
        "\n",
        "var m = '(vim) '\n",
        "var edit_shortcuts = {\n",
        "    'k' : {\n",
        "        help    : m + 'up a line, even across cells',\n",
        "        help_index : 'AA',\n",
        "        handler : vim_up\n",
        "    },\n",
        "    'j' : {\n",
        "        help    : m + 'down a line, even across cells',\n",
        "        help_index : 'AA',\n",
        "        handler : vim_down\n",
        "    },\n",
        "\n",
        "};\n",
        "\n",
        "var command_shortcuts = {\n",
        "    'c' :  {\n",
        "        help    : m + def_cmd['y'].help,\n",
        "        help_index : 'AA',\n",
        "        handler : def_cmd['y'].handler\n",
        "    }\n",
        "\n",
        "\n",
        "};\n",
        "\n",
        "edit.add_shortcuts(edit_shortcuts);\n",
        "cmd.add_shortcuts(command_shortcuts);\n",
        "//edit.add_shortcuts('k', def_edit['up'].handler);\n",
        "//edit.add_shortcut('j', def_edit['down'].handler);\n",
        "\n",
        "// N.B. This code looks fairly simple, but it took me forever to \n",
        "// figure out how to do this, \n",
        "// \n",
        "// there's a problem here, Ctrl-[ is already handled by CodeMirror by the time we \n",
        "// (IPython.keyboard_manager) get it CodeMirror issues signals on mode change, \n",
        "// so we have to hook into that to get Ctrl-[\n",
        "edit.remove_shortcut('Ctrl-[');\n",
        "edit.remove_shortcut('Esc');\n",
        "\n",
        "CodeMirror.commands.leaveInsertOrEdit = function (cm) {\n",
        "    if ( cm.state.vim.insertMode ) {\n",
        "        // do magic here to get out of insert mode\n",
        "        CodeMirror.keyMap['vim-insert']['Esc'](cm);\n",
        "    } else {\n",
        "        IPython.notebook.command_mode();\n",
        "        IPython.notebook.focus_cell();\n",
        "    }\n",
        "};\n",
        "        \n",
        "//C().options.extraKeys['Ctrl-['] = 'leaveInsertOrEdit';\n",
        "all_cm( function (cm) {\n",
        "    cm.options.extraKeys['Ctrl-['] = 'leaveInsertOrEdit';\n",
        "    cm.options.extraKeys['Esc'] = 'leaveInsertOrEdit';\n",
        "    if ( CodeMirror.defaults.extraKeys === null ) { \n",
        "        CodeMirror.defaults.extraKeys = {};\n",
        "    }\n",
        "    // TODO: make this change permanent\n",
        "    // this part seems to be ignore when adding a new cell\n",
        "    // - alternative solution would be to listen for NewCell events and rerun the CM function on it\n",
        "    // - it could also be the case that when we instatiate CodeMirror, we somehow leave out CM.defaults.extraKeys\n",
        "    IPython.CodeCell.options_default.cm_config.extraKeys['Ctrl-['] = 'leaveInsertOrEdit';\n",
        "    IPython.TextCell.options_default.cm_config.extraKeys['Ctrl-['] = 'leaveInsertOrEdit';\n",
        "    IPython.CodeCell.options_default.cm_config.extraKeys['Esc'] = 'leaveInsertOrEdit';\n",
        "    IPython.TextCell.options_default.cm_config.extraKeys['Esc'] = 'leaveInsertOrEdit';\n",
        "})\n",
        "\n",
        "// On blur, make sure we go back to command mode for CodeMirror (in case user clicked away)\n",
        "// TODO: Make this permanent - how to get CodeMirror to do this for new cells created after\n",
        "all_cm( function (cm) {\n",
        "    cm.on('blur', function(cm) {\n",
        "        // TODO: I wish I understood a better way to do this, but fake pressing Escape work\n",
        "        CodeMirror.keyMap['vim-insert']['Esc'](cm);\n",
        "        CodeMirror.keyMap['vim']['Esc'](cm);\n",
        "        cm.setOption('styleActiveLine', false);\n",
        "        if (cm.getOption(\"fullScreen\")) {\n",
        "            cm.setOption('fullScreen', false); \n",
        "            // fullScreen the newly selected code mirror (doesn't work)\n",
        "            //setTimeout(100, function() {\n",
        "            //    console.log(IPython.notebook.get_selected_cell().code_mirror);\n",
        "            //    IPython.notebook.get_selected_cell().code_mirror.setOption('fullScreen', true); \n",
        "            //});\n",
        "        }\n",
        "    });\n",
        "    cm.on('focus', function(cm) {\n",
        "        cm.setOption('styleActiveLine', true);\n",
        "    });\n",
        "});\n",
        "\n",
        "// 'i' by default interrupts the kernel (what Ctrl-C does at the terminal)\n",
        "cmd.remove_shortcut('i');\n",
        "cmd.add_shortcut('i', def_cmd.enter);\n",
        "\n",
        "// not quite what we want - 'i' requires a double-tap\n",
        "// add documentation for this.\n",
        "cmd.add_shortcut('ctrl-c', function(e) { IPython.notebook.kernel.interrupt(); return false});\n",
        "\n",
        "\n",
        "function focus_last(e) {\n",
        "    var cells = IPython.notebook.get_cells();\n",
        "    cells[cells.length-1].focus_cell();\n",
        "};\n",
        "\n",
        "function focus_first(e) {\n",
        "    var cells = IPython.notebook.get_cells();\n",
        "    cells[0].focus_cell();\n",
        "};\n",
        "\n",
        "function combo_tap(combo, action) {\n",
        "    var that = this;\n",
        "    var timeout;\n",
        "    function f() {\n",
        "        console.log('f called once');\n",
        "        \n",
        "        // redo this so that when an action is performed, we restore the original combo\n",
        "        cmd.add_shortcut(combo[1], \n",
        "                function() { console.log(\"doing action\", combo); reset(); action(); timeout.clear();} );\n",
        "        timeout = setTimeout(function () {\n",
        "            console.log('resetting f');\n",
        "            reset();\n",
        "            //cmd.add_shortcut(combo[0], reset)\n",
        "        }, 800);\n",
        "    }\n",
        "    function reset(e) {\n",
        "        //cmd.remove_shortcut(combo[0]);\n",
        "        console.log('reset called');\n",
        "        //if (timeout) {\n",
        "        //    console.log('resetting aborted');\n",
        "        //    clearTimeout(timeout);\n",
        "        //    timeout = null;\n",
        "        //}\n",
        "        //that(combo, action); \n",
        "        cmd.add_shortcut(combo[0], f);\n",
        "    }\n",
        "    console.log(\"combo tap for\", combo);\n",
        "    \n",
        "    reset();\n",
        "};\n",
        "cmd.add_shortcut('shift-g', focus_last);\n",
        "combo_tap('gg', focus_first);\n",
        "\n",
        "// XXX: the way combo tap is currently implemented, this won't work\n",
        "// need a more generic mechanism for combo-taps with common prefixes\n",
        "// combo_tap('gq', f();\n",
        "//cmd.remove_shortcut('d');\n",
        "// cut\n",
        "combo_tap('dd', def_cmd['x'].handler);\n",
        "\n",
        "// copy\n",
        "combo_tap('yy', def_cmd['c'].handler);\n",
        "\n",
        "// paste\n",
        "cmd.add_shortcut('p', def_cmd['v']);\n",
        "\n",
        "// undo\n",
        "cmd.add_shortcut('u', def_cmd['z']);\n",
        "\n",
        "// Join (merge down with cell below)\n",
        "cmd.add_shortcut('shift-j', def_cmd['shift-m'])\n",
        "\n",
        "//edit.add_shortcut('k', def_edit['up'].handler);\n",
        "//[edit.add_shortcut('j', def_edit['down'].handler);\n",
        "\n",
        "CodeMirror.prototype.save = function() { \n",
        "    IPython.notebook.save_checkpoint()\n",
        "}\n",
        "\n",
        "function focus_last(e) {\n",
        "    var cells = IPython.notebook.get_cells();\n",
        "    cells[cells.length-1].focus_cell();\n",
        "};\n",
        "\n",
        "function focus_first(e) {\n",
        "    console.log('focus first called');\n",
        "    var cells = IPython.notebook.get_cells();\n",
        "    cells[0].focus_cell();\n",
        "};\n",
        "\n",
        "\n",
        "cmd.add_shortcut('shift-g', focus_last);\n",
        "combo_tap('gg', focus_first);\n",
        "\n",
        "// get rid of the default Ctrl-W binding\n",
        "// this only works for Firefox\n",
        "$(document).ready(function() {\n",
        "\t$(this).bind('keypress', function(e) {\n",
        "\t\tvar key = (e.keyCode ? e.keyCode : e.charCode);\n",
        "\t\tif (key == '119' && e.ctrlKey) {\n",
        "\t\t\treturn false;\n",
        "\t\t}\n",
        "\t});\n",
        "});\n",
        "\n",
        "window.addEventListener(\"beforeunload\", function( event ) {\n",
        "    var press = jQuery.Event(\"keypress\");\n",
        "    press.ctrlKey = false;\n",
        "    press.which = 27; // escape\n",
        "    $(document).trigger(press);\n",
        "    event.returnValue = \"\\nXXXXXXXXXXXXXXXXXXXXXXXXXXXXXXXXXXXXXXXXXXXXXX\";\n",
        "    event.returnValue +=\"\\nX  Chrome sucks at captruring Ctrl-W, sorry  X\";\n",
        "    event.returnValue += \"\\nXXXXXXXXXXXXXXXXXXXXXXXXXXXXXXXXXXXXXXXXXXXXXX\";\n",
        "});\n",
        "\n",
        "// update the keyboard shortcuts\n",
        "IPython.quick_help = new IPython.QuickHelp();\n",
        "\n",
        "//IPython.CodeCell.options_default.cm_config.styleActiveLine = true;\n",
        "\n",
        "all_cm( function (cm) {\n",
        "    cm.setOption('foldGutter', true);\n",
        "    cm.setOption('gutters',  [\"CodeMirror-linenumbers\", \"CodeMirror-foldgutter\"]);\n",
        "    cm.options.extraKeys[\"Ctrl-F\"] = function(cm){ cm.foldCode(cm.getCursor()); };\n",
        "    var wrapOptions = {column: 78, killTrailingSpace: true, wrapOn: /\\s\\S|[^\\.\\d]/ };\n",
        "    // XXX: add a hardwrap-range to this as well\n",
        "    cm.options.extraKeys[\"F2\"] =  function(cm) { cm.wrapParagraph(cm.getCursor(), wrapOptions); };\n",
        "    //cm.options.extraKeys[\"[\"] =  function(cm) { cm.setOption(\"fullScreen\", !cm.getOption(\"fullScreen\"))};\n",
        "    IPython.CodeCell.options_default.cm_config.extraKeys['Ctrl-F'] = function(cm){ cm.foldCode(cm.getCursor()); };\n",
        "    IPython.TextCell.options_default.cm_config.extraKeys['Ctrl-F'] = function(cm){ cm.foldCode(cm.getCursor()); };\n",
        "\n",
        "    // todo - do this for new cells as well\n",
        "    // support this a :only? turn off full screen on blur\n",
        "    cm.options.extraKeys[\"F11\"] =  function(cm) { cm.setOption(\"fullScreen\", !cm.getOption(\"fullScreen\"))};\n",
        "    cm.options.extraKeys[\"Ctrl-A\"] =  function(cm) {\n",
        "          if (cm.getOption(\"fullScreen\")) cm.setOption(\"fullScreen\", false);\n",
        "        };\n",
        "    //all_cm( function (cm) {\n",
        "});\n",
        "\n",
        "//setTimeout(function() {IPython.notebook.get_selected_cell().set_input_prompt('vim');}, 200)\n",
        "\n",
        "$(\"#ipython_notebook\").find('img').remove('#vim');\n",
        "$(\"#ipython_notebook\").append('<img id=\"vim\" src=\"http://www.vim.org/images/vim_on_fire.gif\"'\n",
        "        // XXX: add it to the distribution\n",
        "        // /static/custom/vim_on_fire.gif\" \n",
        "    + ' style=\"'\n",
        "    + 'position: absolute; left: 51px; top: -10px; height: initial;\">')\n",
        "$(\"#vim\").click( function () {$(this).hide()});\n",
        "\n",
        "\n",
        "// XXX: Autowrapping is kind of broken - you can write a line that will have\n",
        "// its last word (if it's 1 or 2 characters just go back and forth between the\n",
        "// current and the next lines)\n",
        "//all_cm(function (cm) {\n",
        "//    var wait, options = {column: 78, killTrailingSpace: true, wrapOn: /\\s\\S|[^\\.\\d]/};\n",
        "//    cm.on(\"change\", function(cm, change) {\n",
        "//      clearTimeout(wait);\n",
        "//      wait = setTimeout(function() {\n",
        "//        console.log(cm.wrapParagraphsInRange(change.from, CodeMirror.changeEnd(change), options));\n",
        "//      }, 300);\n",
        "//    });\n",
        "//});\n",
        "\n",
        "}, function  failure() { \n",
        "    alert('le sucks, something went wrong');\n",
        "\n",
        "});\n",
        "\n",
        "\n",
        "// at_top  and at_bottom methods for ipython-vimception\n",
        "    /**\n",
        "     * @method at_top\n",
        "     * @return {Boolean}\n",
        "     */\n",
        "    Cell.prototype.at_top = function () {\n",
        "        var cm = this.code_mirror;\n",
        "        var cursor = cm.getCursor();\n",
        "        if (cursor.line === 0 && cm.findPosV(cursor, -1, 'line').hitSide) {\n",
        "            return true;\n",
        "        } else {\n",
        "            return false;\n",
        "        }\n",
        "    };\n",
        "\n",
        "    /**\n",
        "     * @method at_bottom\n",
        "     * @return {Boolean}\n",
        "     * */\n",
        "    Cell.prototype.at_bottom = function () {\n",
        "        var cm = this.code_mirror;\n",
        "        var cursor = cm.getCursor();\n",
        "        if (cursor.line === (cm.lineCount()-1) && cm.findPosV(cursor, 1, 'line').hitSide) {\n",
        "            return true;\n",
        "        } else {\n",
        "            return false;\n",
        "        }\n",
        "    };\n"
       ],
       "metadata": {},
       "output_type": "display_data",
       "text": [
        "<IPython.core.display.Javascript at 0x104730a10>"
       ]
      },
      {
       "javascript": [
        "\n",
        "var cmd = IPython.keyboard_manager.command_shortcuts;\n",
        "var edit = IPython.keyboard_manager.edit_shortcuts;\n",
        "var def_cmd = IPython.default_command_shortcuts;\n",
        "var def_edit = IPython.default_edit_shortcuts;\n",
        "\n",
        "// get the code mirror editor of a curently selected cell\n",
        "function C() { return IPython.notebook.get_selected_cell().code_mirror; };\n",
        "\n",
        "// Change the mode of all current and future CodeMirror instances\n",
        "// Emacs users can use this function as just to('emacs') so long as they've\n",
        "// required/loaded emacs.js from CodeMirror\n",
        "function to(mode) {\n",
        "    var mode = mode || 'vim'\n",
        "    // first let's apply vim mode to all current cells\n",
        "    function to_mode(c) { return c.code_mirror.setOption('keyMap', mode);};\n",
        "    IPython.notebook.get_cells().map(to_mode);\n",
        "    // apply the mode to future cells created\n",
        "    IPython.Cell.options_default.cm_config.keyMap = mode;\n",
        "}\n",
        "\n",
        "function getCSS(path) {\n",
        "    $('<link/>', {\n",
        "       rel: 'stylesheet',\n",
        "       type: 'text/css',\n",
        "       href: path,\n",
        "    }).appendTo('head');\n",
        "}\n",
        "\n",
        "// I messed around with trying to get requireJS going here, but gave up and\n",
        "// just using this answer from SO \n",
        "// http://stackoverflow.com/questions/11803215/how-to-include-multiple-js-files-using-jquery-getscript-method\n",
        "\n",
        "var p = \"/static/components/codemirror/addon/\";\n",
        "\n",
        "$.when(\n",
        "// Grab the CodeMirror vim keymap\n",
        "$.getScript(p + \"../keymap/vim.js\"),\n",
        "// also make search work via /\n",
        "$.getScript(p + \"search/search.js\"),\n",
        "$.getScript(p + \"search/searchcursor.js\"),\n",
        "\n",
        "// TODO: hook-up gq to perform a harwrap\n",
        "$.getScript(p + \"wrap/hardwrap.js\"),\n",
        "$.getScript(p + \"selection/active-line.js\"),\n",
        "\n",
        "$.getScript(p + \"display/fullscreen.js\"),\n",
        "getCSS(p + \"display/fullscreen.css\"),\n",
        "getCSS(p + \"dialog/dialog.css\"),\n",
        "$.getScript(p + \"dialog/dialog.js\"),\n",
        "\n",
        "\n",
        "    $.Deferred(function( deferred ){\n",
        "        $( deferred.resolve );\n",
        "    })\n",
        ").then(function success(){\n",
        "\n",
        "console.log('Great success');\n",
        "\n",
        "IPython.CodeCell.options_default.cm_config.foldGutter = true;\n",
        "IPython.CodeCell.options_default.cm_config.gutters =  [\"CodeMirror-linenumbers\", \"CodeMirror-foldgutter\"];\n",
        "\n",
        "IPython.Cell.prototype.at_top = function () {\n",
        "        var cm = this.code_mirror;\n",
        "        var cursor = cm.getCursor();\n",
        "        if (cursor.line === 0) {\n",
        "            return true;\n",
        "        }\n",
        "        return false;\n",
        "    };\n",
        "\n",
        "\n",
        "IPython.Cell.prototype.at_bottom = function () {\n",
        "    var cm = this.code_mirror;\n",
        "    var cursor = cm.getCursor();\n",
        "    if (cursor.line === (cm.lineCount()-1)) {\n",
        "        return true;\n",
        "    }\n",
        "    return false;\n",
        "};\n",
        "// on all code mirror instances on this page, apply the function f\n",
        "function all_cm(f) {\n",
        "    // apply f to every code mirror instance. f takes one parameter\n",
        "    IPython.notebook.get_cells().map(function (c) { f(c.code_mirror); } );\n",
        "}\n",
        "\n",
        "\n",
        "to('vim');\n",
        "function vim_up(event) {\n",
        "    var cell = IPython.notebook.get_selected_cell();\n",
        "    if (cell && cell.at_top() && cell.code_mirror.options.keyMap === 'vim') {\n",
        "        console.log('inside the business logic k');\n",
        "        event.preventDefault();\n",
        "        IPython.notebook.command_mode()\n",
        "        IPython.notebook.select_prev();\n",
        "        IPython.notebook.edit_mode();\n",
        "        return false;\n",
        "    };\n",
        "}\n",
        "\n",
        "function vim_down(event) {\n",
        "            var cell = IPython.notebook.get_selected_cell();\n",
        "            if (cell && cell.at_bottom() && cell.code_mirror.options.keyMap === 'vim') {\n",
        "                event.preventDefault();\n",
        "                IPython.notebook.command_mode()\n",
        "                IPython.notebook.select_next();\n",
        "                IPython.notebook.edit_mode();\n",
        "                return false;\n",
        "            };\n",
        "        }\n",
        "\n",
        "var m = '(vim) '\n",
        "var edit_shortcuts = {\n",
        "    'k' : {\n",
        "        help    : m + 'up a line, even across cells',\n",
        "        help_index : 'AA',\n",
        "        handler : vim_up\n",
        "    },\n",
        "    'j' : {\n",
        "        help    : m + 'down a line, even across cells',\n",
        "        help_index : 'AA',\n",
        "        handler : vim_down\n",
        "    },\n",
        "\n",
        "};\n",
        "\n",
        "var command_shortcuts = {\n",
        "    'c' :  {\n",
        "        help    : m + def_cmd['y'].help,\n",
        "        help_index : 'AA',\n",
        "        handler : def_cmd['y'].handler\n",
        "    }\n",
        "\n",
        "\n",
        "};\n",
        "\n",
        "edit.add_shortcuts(edit_shortcuts);\n",
        "cmd.add_shortcuts(command_shortcuts);\n",
        "//edit.add_shortcuts('k', def_edit['up'].handler);\n",
        "//edit.add_shortcut('j', def_edit['down'].handler);\n",
        "\n",
        "// N.B. This code looks fairly simple, but it took me forever to \n",
        "// figure out how to do this, \n",
        "// \n",
        "// there's a problem here, Ctrl-[ is already handled by CodeMirror by the time we \n",
        "// (IPython.keyboard_manager) get it CodeMirror issues signals on mode change, \n",
        "// so we have to hook into that to get Ctrl-[\n",
        "edit.remove_shortcut('Ctrl-[');\n",
        "edit.remove_shortcut('Esc');\n",
        "\n",
        "CodeMirror.commands.leaveInsertOrEdit = function (cm) {\n",
        "    if ( cm.state.vim.insertMode ) {\n",
        "        // do magic here to get out of insert mode\n",
        "        CodeMirror.keyMap['vim-insert']['Esc'](cm);\n",
        "    } else {\n",
        "        IPython.notebook.command_mode();\n",
        "        IPython.notebook.focus_cell();\n",
        "    }\n",
        "};\n",
        "        \n",
        "//C().options.extraKeys['Ctrl-['] = 'leaveInsertOrEdit';\n",
        "all_cm( function (cm) {\n",
        "    cm.options.extraKeys['Ctrl-['] = 'leaveInsertOrEdit';\n",
        "    cm.options.extraKeys['Esc'] = 'leaveInsertOrEdit';\n",
        "    if ( CodeMirror.defaults.extraKeys === null ) { \n",
        "        CodeMirror.defaults.extraKeys = {};\n",
        "    }\n",
        "    // TODO: make this change permanent\n",
        "    // this part seems to be ignore when adding a new cell\n",
        "    // - alternative solution would be to listen for NewCell events and rerun the CM function on it\n",
        "    // - it could also be the case that when we instatiate CodeMirror, we somehow leave out CM.defaults.extraKeys\n",
        "    IPython.CodeCell.options_default.cm_config.extraKeys['Ctrl-['] = 'leaveInsertOrEdit';\n",
        "    IPython.TextCell.options_default.cm_config.extraKeys['Ctrl-['] = 'leaveInsertOrEdit';\n",
        "    IPython.CodeCell.options_default.cm_config.extraKeys['Esc'] = 'leaveInsertOrEdit';\n",
        "    IPython.TextCell.options_default.cm_config.extraKeys['Esc'] = 'leaveInsertOrEdit';\n",
        "})\n",
        "\n",
        "// On blur, make sure we go back to command mode for CodeMirror (in case user clicked away)\n",
        "// TODO: Make this permanent - how to get CodeMirror to do this for new cells created after\n",
        "all_cm( function (cm) {\n",
        "    cm.on('blur', function(cm) {\n",
        "        // TODO: I wish I understood a better way to do this, but fake pressing Escape work\n",
        "        CodeMirror.keyMap['vim-insert']['Esc'](cm);\n",
        "        CodeMirror.keyMap['vim']['Esc'](cm);\n",
        "        cm.setOption('styleActiveLine', false);\n",
        "        if (cm.getOption(\"fullScreen\")) {\n",
        "            cm.setOption('fullScreen', false); \n",
        "            // fullScreen the newly selected code mirror (doesn't work)\n",
        "            //setTimeout(100, function() {\n",
        "            //    console.log(IPython.notebook.get_selected_cell().code_mirror);\n",
        "            //    IPython.notebook.get_selected_cell().code_mirror.setOption('fullScreen', true); \n",
        "            //});\n",
        "        }\n",
        "    });\n",
        "    cm.on('focus', function(cm) {\n",
        "        cm.setOption('styleActiveLine', true);\n",
        "    });\n",
        "});\n",
        "\n",
        "// 'i' by default interrupts the kernel (what Ctrl-C does at the terminal)\n",
        "cmd.remove_shortcut('i');\n",
        "cmd.add_shortcut('i', def_cmd.enter);\n",
        "\n",
        "// not quite what we want - 'i' requires a double-tap\n",
        "// add documentation for this.\n",
        "cmd.add_shortcut('ctrl-c', function(e) { IPython.notebook.kernel.interrupt(); return false});\n",
        "\n",
        "\n",
        "function focus_last(e) {\n",
        "    var cells = IPython.notebook.get_cells();\n",
        "    cells[cells.length-1].focus_cell();\n",
        "};\n",
        "\n",
        "function focus_first(e) {\n",
        "    var cells = IPython.notebook.get_cells();\n",
        "    cells[0].focus_cell();\n",
        "};\n",
        "\n",
        "function combo_tap(combo, action) {\n",
        "    var that = this;\n",
        "    var timeout;\n",
        "    function f() {\n",
        "        console.log('f called once');\n",
        "        \n",
        "        // redo this so that when an action is performed, we restore the original combo\n",
        "        cmd.add_shortcut(combo[1], \n",
        "                function() { console.log(\"doing action\", combo); reset(); action(); timeout.clear();} );\n",
        "        timeout = setTimeout(function () {\n",
        "            console.log('resetting f');\n",
        "            reset();\n",
        "            //cmd.add_shortcut(combo[0], reset)\n",
        "        }, 800);\n",
        "    }\n",
        "    function reset(e) {\n",
        "        //cmd.remove_shortcut(combo[0]);\n",
        "        console.log('reset called');\n",
        "        //if (timeout) {\n",
        "        //    console.log('resetting aborted');\n",
        "        //    clearTimeout(timeout);\n",
        "        //    timeout = null;\n",
        "        //}\n",
        "        //that(combo, action); \n",
        "        cmd.add_shortcut(combo[0], f);\n",
        "    }\n",
        "    console.log(\"combo tap for\", combo);\n",
        "    \n",
        "    reset();\n",
        "};\n",
        "cmd.add_shortcut('shift-g', focus_last);\n",
        "combo_tap('gg', focus_first);\n",
        "\n",
        "// XXX: the way combo tap is currently implemented, this won't work\n",
        "// need a more generic mechanism for combo-taps with common prefixes\n",
        "// combo_tap('gq', f();\n",
        "//cmd.remove_shortcut('d');\n",
        "// cut\n",
        "combo_tap('dd', def_cmd['x'].handler);\n",
        "\n",
        "// copy\n",
        "combo_tap('yy', def_cmd['c'].handler);\n",
        "\n",
        "// paste\n",
        "cmd.add_shortcut('p', def_cmd['v']);\n",
        "\n",
        "// undo\n",
        "cmd.add_shortcut('u', def_cmd['z']);\n",
        "\n",
        "// Join (merge down with cell below)\n",
        "cmd.add_shortcut('shift-j', def_cmd['shift-m'])\n",
        "\n",
        "//edit.add_shortcut('k', def_edit['up'].handler);\n",
        "//[edit.add_shortcut('j', def_edit['down'].handler);\n",
        "\n",
        "CodeMirror.prototype.save = function() { \n",
        "    IPython.notebook.save_checkpoint()\n",
        "}\n",
        "\n",
        "function focus_last(e) {\n",
        "    var cells = IPython.notebook.get_cells();\n",
        "    cells[cells.length-1].focus_cell();\n",
        "};\n",
        "\n",
        "function focus_first(e) {\n",
        "    console.log('focus first called');\n",
        "    var cells = IPython.notebook.get_cells();\n",
        "    cells[0].focus_cell();\n",
        "};\n",
        "\n",
        "\n",
        "cmd.add_shortcut('shift-g', focus_last);\n",
        "combo_tap('gg', focus_first);\n",
        "\n",
        "// get rid of the default Ctrl-W binding\n",
        "// this only works for Firefox\n",
        "$(document).ready(function() {\n",
        "\t$(this).bind('keypress', function(e) {\n",
        "\t\tvar key = (e.keyCode ? e.keyCode : e.charCode);\n",
        "\t\tif (key == '119' && e.ctrlKey) {\n",
        "\t\t\treturn false;\n",
        "\t\t}\n",
        "\t});\n",
        "});\n",
        "\n",
        "window.addEventListener(\"beforeunload\", function( event ) {\n",
        "    var press = jQuery.Event(\"keypress\");\n",
        "    press.ctrlKey = false;\n",
        "    press.which = 27; // escape\n",
        "    $(document).trigger(press);\n",
        "    event.returnValue = \"\\nXXXXXXXXXXXXXXXXXXXXXXXXXXXXXXXXXXXXXXXXXXXXXX\";\n",
        "    event.returnValue +=\"\\nX  Chrome sucks at captruring Ctrl-W, sorry  X\";\n",
        "    event.returnValue += \"\\nXXXXXXXXXXXXXXXXXXXXXXXXXXXXXXXXXXXXXXXXXXXXXX\";\n",
        "});\n",
        "\n",
        "// update the keyboard shortcuts\n",
        "IPython.quick_help = new IPython.QuickHelp();\n",
        "\n",
        "//IPython.CodeCell.options_default.cm_config.styleActiveLine = true;\n",
        "\n",
        "all_cm( function (cm) {\n",
        "    cm.setOption('foldGutter', true);\n",
        "    cm.setOption('gutters',  [\"CodeMirror-linenumbers\", \"CodeMirror-foldgutter\"]);\n",
        "    cm.options.extraKeys[\"Ctrl-F\"] = function(cm){ cm.foldCode(cm.getCursor()); };\n",
        "    var wrapOptions = {column: 78, killTrailingSpace: true, wrapOn: /\\s\\S|[^\\.\\d]/ };\n",
        "    // XXX: add a hardwrap-range to this as well\n",
        "    cm.options.extraKeys[\"F2\"] =  function(cm) { cm.wrapParagraph(cm.getCursor(), wrapOptions); };\n",
        "    //cm.options.extraKeys[\"[\"] =  function(cm) { cm.setOption(\"fullScreen\", !cm.getOption(\"fullScreen\"))};\n",
        "    IPython.CodeCell.options_default.cm_config.extraKeys['Ctrl-F'] = function(cm){ cm.foldCode(cm.getCursor()); };\n",
        "    IPython.TextCell.options_default.cm_config.extraKeys['Ctrl-F'] = function(cm){ cm.foldCode(cm.getCursor()); };\n",
        "\n",
        "    // todo - do this for new cells as well\n",
        "    // support this a :only? turn off full screen on blur\n",
        "    cm.options.extraKeys[\"F11\"] =  function(cm) { cm.setOption(\"fullScreen\", !cm.getOption(\"fullScreen\"))};\n",
        "    cm.options.extraKeys[\"Ctrl-A\"] =  function(cm) {\n",
        "          if (cm.getOption(\"fullScreen\")) cm.setOption(\"fullScreen\", false);\n",
        "        };\n",
        "    //all_cm( function (cm) {\n",
        "});\n",
        "\n",
        "//setTimeout(function() {IPython.notebook.get_selected_cell().set_input_prompt('vim');}, 200)\n",
        "\n",
        "$(\"#ipython_notebook\").find('img').remove('#vim');\n",
        "$(\"#ipython_notebook\").append('<img id=\"vim\" src=\"http://www.vim.org/images/vim_on_fire.gif\"'\n",
        "        // XXX: add it to the distribution\n",
        "        // /static/custom/vim_on_fire.gif\" \n",
        "    + ' style=\"'\n",
        "    + 'position: absolute; left: 51px; top: -10px; height: initial;\">')\n",
        "$(\"#vim\").click( function () {$(this).hide()});\n",
        "\n",
        "\n",
        "// XXX: Autowrapping is kind of broken - you can write a line that will have\n",
        "// its last word (if it's 1 or 2 characters just go back and forth between the\n",
        "// current and the next lines)\n",
        "//all_cm(function (cm) {\n",
        "//    var wait, options = {column: 78, killTrailingSpace: true, wrapOn: /\\s\\S|[^\\.\\d]/};\n",
        "//    cm.on(\"change\", function(cm, change) {\n",
        "//      clearTimeout(wait);\n",
        "//      wait = setTimeout(function() {\n",
        "//        console.log(cm.wrapParagraphsInRange(change.from, CodeMirror.changeEnd(change), options));\n",
        "//      }, 300);\n",
        "//    });\n",
        "//});\n",
        "\n",
        "}, function  failure() { \n",
        "    alert('le sucks, something went wrong');\n",
        "\n",
        "});\n",
        "\n",
        "\n",
        "// at_top  and at_bottom methods for ipython-vimception\n",
        "    /**\n",
        "     * @method at_top\n",
        "     * @return {Boolean}\n",
        "     */\n",
        "    Cell.prototype.at_top = function () {\n",
        "        var cm = this.code_mirror;\n",
        "        var cursor = cm.getCursor();\n",
        "        if (cursor.line === 0 && cm.findPosV(cursor, -1, 'line').hitSide) {\n",
        "            return true;\n",
        "        } else {\n",
        "            return false;\n",
        "        }\n",
        "    };\n",
        "\n",
        "    /**\n",
        "     * @method at_bottom\n",
        "     * @return {Boolean}\n",
        "     * */\n",
        "    Cell.prototype.at_bottom = function () {\n",
        "        var cm = this.code_mirror;\n",
        "        var cursor = cm.getCursor();\n",
        "        if (cursor.line === (cm.lineCount()-1) && cm.findPosV(cursor, 1, 'line').hitSide) {\n",
        "            return true;\n",
        "        } else {\n",
        "            return false;\n",
        "        }\n",
        "    };\n"
       ],
       "metadata": {},
       "output_type": "display_data",
       "text": [
        "<IPython.core.display.Javascript at 0x104730950>"
       ]
      }
     ],
     "prompt_number": 1
    },
    {
     "cell_type": "code",
     "collapsed": false,
     "input": [
      "%load_ext autoreload\n",
      "%autoreload 2"
     ],
     "language": "python",
     "metadata": {},
     "outputs": [],
     "prompt_number": 2
    },
    {
     "cell_type": "code",
     "collapsed": false,
     "input": [
      "%matplotlib inline\n",
      "import matplotlib.pyplot as plt"
     ],
     "language": "python",
     "metadata": {},
     "outputs": [],
     "prompt_number": 1
    },
    {
     "cell_type": "markdown",
     "metadata": {},
     "source": [
      "# Hidden Alignment CRF for spelling correction\n",
      "\n",
      "This is an example to show how the model can be used to score candidate corrections."
     ]
    },
    {
     "cell_type": "markdown",
     "metadata": {},
     "source": [
      "## Training data\n",
      "\n",
      "Fei Liu and others collected string pairs from social media and this excellent source is available at:\n",
      "\n",
      "http://www.hlt.utdallas.edu/~yangl/data/Text_Norm_Data_Release_Fei_Liu/"
     ]
    },
    {
     "cell_type": "code",
     "collapsed": false,
     "input": [
      "lines = open('Test_Set_3802_Pairs.txt', 'r').readlines()\n",
      "ppairs = [line.split('\\t')[1].strip().split(' | ') for line in lines]\n",
      "ppairs = [(pair[0], pair[i]) for pair in ppairs for i in xrange(1, len(pair))]\n",
      "print len(ppairs)\n",
      "ppairs[:5]"
     ],
     "language": "python",
     "metadata": {},
     "outputs": [
      {
       "output_type": "stream",
       "stream": "stdout",
       "text": [
        "3974\n"
       ]
      },
      {
       "metadata": {},
       "output_type": "pyout",
       "prompt_number": 2,
       "text": [
        "[('0kkay', 'okay'),\n",
        " ('0n', 'on'),\n",
        " ('0neee', 'one'),\n",
        " ('0r', 'or'),\n",
        " ('1s', 'once')]"
       ]
      }
     ],
     "prompt_number": 2
    },
    {
     "cell_type": "markdown",
     "metadata": {},
     "source": [
      "Let's keep 1000 of these pairs out to evaluate the final performance of the model."
     ]
    },
    {
     "cell_type": "code",
     "collapsed": false,
     "input": [
      "from sklearn.cross_validation import train_test_split\n",
      "ppairs_train, ppairs_test = train_test_split(ppairs, test_size=1000, random_state=1)\n",
      "ppairs_train = [tuple(ppair_train) for ppair_train in ppairs_train]\n",
      "ppairs_test = [tuple(ppair_test) for ppair_test in ppairs_test]\n",
      "print len(ppairs_train), len(ppairs_test)"
     ],
     "language": "python",
     "metadata": {},
     "outputs": [
      {
       "output_type": "stream",
       "stream": "stdout",
       "text": [
        "2974 1000\n"
       ]
      }
     ],
     "prompt_number": 3
    },
    {
     "cell_type": "markdown",
     "metadata": {},
     "source": [
      "## Negative training examples\n",
      "\n",
      "The model needs both positive examples (examples of matching string pairs) and negative examples (examples of strings that do not match). To generate the negative examples, let's just pair shuffle the positive examples:"
     ]
    },
    {
     "cell_type": "code",
     "collapsed": false,
     "input": [
      "from numpy.random import shuffle \n",
      "incorrect = list(zip(*ppairs_train)[0])\n",
      "shuffle(incorrect)\n",
      "correct = list(zip(*ppairs_train)[1])\n",
      "npairs_train = zip(incorrect, correct)\n",
      "npairs_train[:5]"
     ],
     "language": "python",
     "metadata": {},
     "outputs": [
      {
       "metadata": {},
       "output_type": "pyout",
       "prompt_number": 4,
       "text": [
        "[('witt', 'uses'),\n",
        " ('kickin', 'mummy'),\n",
        " (\"ppl's\", 'shit'),\n",
        " ('shite', 'transfered'),\n",
        " ('quaters', 'morning')]"
       ]
      }
     ],
     "prompt_number": 4
    },
    {
     "cell_type": "markdown",
     "metadata": {},
     "source": [
      "Concatenate the positive and negative examples and create labels - `0` for matching pairs and `1` for non-matching pairs."
     ]
    },
    {
     "cell_type": "code",
     "collapsed": true,
     "input": [
      "x_raw = ppairs_train + npairs_train\n",
      "y_orig = [0] * len(ppairs_train) + [1] * len(npairs_train)"
     ],
     "language": "python",
     "metadata": {},
     "outputs": [],
     "prompt_number": 5
    },
    {
     "cell_type": "markdown",
     "metadata": {},
     "source": [
      "## Extract features\n",
      "\n",
      "For this example let's just extract all possible features instead of doing feature selection."
     ]
    },
    {
     "cell_type": "code",
     "collapsed": false,
     "input": [
      "from pyhacrf import StringPairFeatureExtractor"
     ],
     "language": "python",
     "metadata": {},
     "outputs": [],
     "prompt_number": 6
    },
    {
     "cell_type": "code",
     "collapsed": false,
     "input": [
      "fe = StringPairFeatureExtractor(match=True, numeric=True, transition=True)\n",
      "x_orig = fe.fit_transform(x_raw)"
     ],
     "language": "python",
     "metadata": {},
     "outputs": [],
     "prompt_number": 19
    },
    {
     "cell_type": "markdown",
     "metadata": {},
     "source": [
      "## Split off testing examples to evaluate classification"
     ]
    },
    {
     "cell_type": "code",
     "collapsed": false,
     "input": [
      "from sklearn.cross_validation import train_test_split\n",
      "x_train, x_test, y_train, y_test = train_test_split(x_orig, y_orig, test_size=0.2, random_state=42)\n",
      "print y_train[:10], y_test[:10]\n",
      "print len(y_train), len(x_train), len(y_test), len(x_test)"
     ],
     "language": "python",
     "metadata": {},
     "outputs": [
      {
       "output_type": "stream",
       "stream": "stdout",
       "text": [
        "[0, 0, 0, 0, 1, 1, 1, 1, 1, 0] [1, 1, 0, 1, 1, 1, 1, 1, 0, 1]\n",
        "4758 4758 1190 1190\n"
       ]
      }
     ],
     "prompt_number": 20
    },
    {
     "cell_type": "markdown",
     "metadata": {},
     "source": [
      "## Cross-validation to find regularization parameter"
     ]
    },
    {
     "cell_type": "code",
     "collapsed": false,
     "input": [
      "from pyhacrf import Hacrf\n",
      "from scipy.optimize import fmin_l_bfgs_b"
     ],
     "language": "python",
     "metadata": {},
     "outputs": [],
     "prompt_number": 21
    },
    {
     "cell_type": "code",
     "collapsed": false,
     "input": [
      "models = []\n",
      "accs_train = []\n",
      "accs_val = []\n",
      "regs = []\n",
      "\n",
      "for n, i in enumerate(np.linspace(-8, 4, 15)):\n",
      "    print np.exp(i)\n",
      "    m = Hacrf(l2_regularization=np.exp(i), optimizer=fmin_l_bfgs_b, optimizer_kwargs={'maxfun': 45})\n",
      "    \n",
      "    x_t, x_v, y_t, y_v = train_test_split(x_train, y_train, test_size=0.5, random_state=42 + n)\n",
      "    \n",
      "    m.fit(x_t, y_t, verbosity=5)\n",
      "    \n",
      "    train_score = accuracy_score(m.predict(x_t), y_t)\n",
      "    val_score = accuracy_score(m.predict(x_v), y_v)\n",
      "    print np.exp(i), train_score, val_score\n",
      "    \n",
      "    regs.append(np.exp(i))\n",
      "    models.append(m)\n",
      "    accs_train.append(train_score)\n",
      "    accs_val.append(val_score)"
     ],
     "language": "python",
     "metadata": {},
     "outputs": [
      {
       "output_type": "stream",
       "stream": "stdout",
       "text": [
        "0.000335462627903\n",
        "Iteration  Log-likelihood |gradient|"
       ]
      },
      {
       "output_type": "stream",
       "stream": "stdout",
       "text": [
        "\n",
        "         0 -1.649e+03  2.082e+04\n",
        "         5     -502.0  4.289e+03"
       ]
      },
      {
       "output_type": "stream",
       "stream": "stdout",
       "text": [
        "\n",
        "        10     -280.0  2.435e+03"
       ]
      },
      {
       "output_type": "stream",
       "stream": "stdout",
       "text": [
        "\n",
        "        15     -139.2  2.453e+03"
       ]
      },
      {
       "output_type": "stream",
       "stream": "stdout",
       "text": [
        "\n",
        "        20     -88.01      759.2"
       ]
      },
      {
       "output_type": "stream",
       "stream": "stdout",
       "text": [
        "\n",
        "        25     -51.43      483.9"
       ]
      },
      {
       "output_type": "stream",
       "stream": "stdout",
       "text": [
        "\n",
        "        30     -32.57      466.6"
       ]
      },
      {
       "output_type": "stream",
       "stream": "stdout",
       "text": [
        "\n",
        "        35     -7.906      138.1"
       ]
      },
      {
       "output_type": "stream",
       "stream": "stdout",
       "text": [
        "\n",
        "        40      -3.25      30.06"
       ]
      },
      {
       "output_type": "stream",
       "stream": "stdout",
       "text": [
        "\n",
        "        45     -1.732      11.13"
       ]
      },
      {
       "output_type": "stream",
       "stream": "stdout",
       "text": [
        "\n",
        "0.000335462627903"
       ]
      },
      {
       "output_type": "stream",
       "stream": "stdout",
       "text": [
        " 1.0 0.960907944515\n",
        "0.00079049032312\n",
        "Iteration  Log-likelihood |gradient|"
       ]
      },
      {
       "output_type": "stream",
       "stream": "stdout",
       "text": [
        "\n",
        "         0 -1.649e+03  2.065e+04\n",
        "         5     -527.2   4.89e+03"
       ]
      },
      {
       "output_type": "stream",
       "stream": "stdout",
       "text": [
        "\n",
        "        10     -297.0  2.507e+03"
       ]
      },
      {
       "output_type": "stream",
       "stream": "stdout",
       "text": [
        "\n",
        "        15     -181.6  1.541e+03"
       ]
      },
      {
       "output_type": "stream",
       "stream": "stdout",
       "text": [
        "\n",
        "        20     -126.2  1.242e+03"
       ]
      },
      {
       "output_type": "stream",
       "stream": "stdout",
       "text": [
        "\n",
        "        25     -59.31      545.2"
       ]
      },
      {
       "output_type": "stream",
       "stream": "stdout",
       "text": [
        "\n",
        "        30     -19.22      271.3"
       ]
      },
      {
       "output_type": "stream",
       "stream": "stdout",
       "text": [
        "\n",
        "        35     -10.46      129.6"
       ]
      },
      {
       "output_type": "stream",
       "stream": "stdout",
       "text": [
        "\n",
        "        40     -4.635      38.55"
       ]
      },
      {
       "output_type": "stream",
       "stream": "stdout",
       "text": [
        "\n",
        "        45     -3.842      13.71"
       ]
      },
      {
       "output_type": "stream",
       "stream": "stdout",
       "text": [
        "\n",
        "0.00079049032312"
       ]
      },
      {
       "output_type": "stream",
       "stream": "stdout",
       "text": [
        " 0.999579655317 0.966792770071\n",
        "0.00186272597593\n",
        "Iteration  Log-likelihood |gradient|"
       ]
      },
      {
       "output_type": "stream",
       "stream": "stdout",
       "text": [
        "\n",
        "         0 -1.649e+03  2.089e+04\n",
        "         5     -476.6  4.444e+03"
       ]
      },
      {
       "output_type": "stream",
       "stream": "stdout",
       "text": [
        "\n",
        "        10     -250.2  1.967e+03"
       ]
      },
      {
       "output_type": "stream",
       "stream": "stdout",
       "text": [
        "\n",
        "        15     -166.3  1.553e+03"
       ]
      },
      {
       "output_type": "stream",
       "stream": "stdout",
       "text": [
        "\n",
        "        20     -101.7      840.2"
       ]
      },
      {
       "output_type": "stream",
       "stream": "stdout",
       "text": [
        "\n",
        "        25     -83.82  1.406e+03"
       ]
      },
      {
       "output_type": "stream",
       "stream": "stdout",
       "text": [
        "\n",
        "        30     -39.02      344.4"
       ]
      },
      {
       "output_type": "stream",
       "stream": "stdout",
       "text": [
        "\n",
        "        35     -18.36      128.6"
       ]
      },
      {
       "output_type": "stream",
       "stream": "stdout",
       "text": [
        "\n",
        "        40     -10.15      81.14"
       ]
      },
      {
       "output_type": "stream",
       "stream": "stdout",
       "text": [
        "\n",
        "        45     -7.969      35.68"
       ]
      },
      {
       "output_type": "stream",
       "stream": "stdout",
       "text": [
        "\n",
        "0.00186272597593"
       ]
      },
      {
       "output_type": "stream",
       "stream": "stdout",
       "text": [
        " 0.999579655317 0.958385876419\n",
        "0.00438936184278\n",
        "Iteration  Log-likelihood |gradient|"
       ]
      },
      {
       "output_type": "stream",
       "stream": "stdout",
       "text": [
        "\n",
        "         0 -1.649e+03  2.074e+04\n",
        "         5     -458.0  4.352e+03"
       ]
      },
      {
       "output_type": "stream",
       "stream": "stdout",
       "text": [
        "\n",
        "        10     -219.6  1.975e+03"
       ]
      },
      {
       "output_type": "stream",
       "stream": "stdout",
       "text": [
        "\n",
        "        15     -107.8  1.373e+03"
       ]
      },
      {
       "output_type": "stream",
       "stream": "stdout",
       "text": [
        "\n",
        "        20     -44.62      500.7"
       ]
      },
      {
       "output_type": "stream",
       "stream": "stdout",
       "text": [
        "\n",
        "        25      -19.1      234.8"
       ]
      },
      {
       "output_type": "stream",
       "stream": "stdout",
       "text": [
        "\n",
        "        30      -6.33      32.05"
       ]
      },
      {
       "output_type": "stream",
       "stream": "stdout",
       "text": [
        "\n",
        "        35     -4.992      19.48"
       ]
      },
      {
       "output_type": "stream",
       "stream": "stdout",
       "text": [
        "\n",
        "        40     -4.399       15.5"
       ]
      },
      {
       "output_type": "stream",
       "stream": "stdout",
       "text": [
        "\n",
        "        45     -3.811       9.82"
       ]
      },
      {
       "output_type": "stream",
       "stream": "stdout",
       "text": [
        "\n",
        "0.00438936184278"
       ]
      },
      {
       "output_type": "stream",
       "stream": "stdout",
       "text": [
        " 1.0 0.963009667928\n",
        "0.0103431731966\n",
        "Iteration  Log-likelihood |gradient|"
       ]
      },
      {
       "output_type": "stream",
       "stream": "stdout",
       "text": [
        "\n",
        "         0 -1.649e+03    2.1e+04\n",
        "         5     -465.0  4.265e+03"
       ]
      },
      {
       "output_type": "stream",
       "stream": "stdout",
       "text": [
        "\n",
        "        10     -245.2   1.88e+03"
       ]
      },
      {
       "output_type": "stream",
       "stream": "stdout",
       "text": [
        "\n",
        "        15     -136.7  1.169e+03"
       ]
      },
      {
       "output_type": "stream",
       "stream": "stdout",
       "text": [
        "\n",
        "        20     -87.68      563.1"
       ]
      },
      {
       "output_type": "stream",
       "stream": "stdout",
       "text": [
        "\n",
        "        25     -42.11      300.7"
       ]
      },
      {
       "output_type": "stream",
       "stream": "stdout",
       "text": [
        "\n",
        "        30     -25.95      177.6"
       ]
      },
      {
       "output_type": "stream",
       "stream": "stdout",
       "text": [
        "\n",
        "        35     -18.32       82.1"
       ]
      },
      {
       "output_type": "stream",
       "stream": "stdout",
       "text": [
        "\n",
        "        40     -15.43       50.5"
       ]
      },
      {
       "output_type": "stream",
       "stream": "stdout",
       "text": [
        "\n",
        "        45      -16.8      264.8"
       ]
      },
      {
       "output_type": "stream",
       "stream": "stdout",
       "text": [
        "\n",
        "0.0103431731966"
       ]
      },
      {
       "output_type": "stream",
       "stream": "stdout",
       "text": [
        " 0.999579655317 0.956704497688\n",
        "0.0243728440733\n",
        "Iteration  Log-likelihood |gradient|"
       ]
      },
      {
       "output_type": "stream",
       "stream": "stdout",
       "text": [
        "\n",
        "         0 -1.649e+03  2.097e+04\n",
        "         5     -443.3   4.99e+03"
       ]
      },
      {
       "output_type": "stream",
       "stream": "stdout",
       "text": [
        "\n",
        "        10     -250.4  2.019e+03"
       ]
      },
      {
       "output_type": "stream",
       "stream": "stdout",
       "text": [
        "\n",
        "        15     -138.7  1.409e+03"
       ]
      },
      {
       "output_type": "stream",
       "stream": "stdout",
       "text": [
        "\n",
        "        20     -133.4  1.503e+03"
       ]
      },
      {
       "output_type": "stream",
       "stream": "stdout",
       "text": [
        "\n",
        "        25     -57.91      517.9"
       ]
      },
      {
       "output_type": "stream",
       "stream": "stdout",
       "text": [
        "\n",
        "        30      -36.9      302.7"
       ]
      },
      {
       "output_type": "stream",
       "stream": "stdout",
       "text": [
        "\n",
        "        35     -25.12      90.08"
       ]
      },
      {
       "output_type": "stream",
       "stream": "stdout",
       "text": [
        "\n",
        "        40     -22.96      81.34"
       ]
      },
      {
       "output_type": "stream",
       "stream": "stdout",
       "text": [
        "\n",
        "        45     -21.56      71.34"
       ]
      },
      {
       "output_type": "stream",
       "stream": "stdout",
       "text": [
        "\n",
        "0.0243728440733"
       ]
      },
      {
       "output_type": "stream",
       "stream": "stdout",
       "text": [
        " 0.999579655317 0.959226565784\n",
        "0.0574326192676\n",
        "Iteration  Log-likelihood |gradient|"
       ]
      },
      {
       "output_type": "stream",
       "stream": "stdout",
       "text": [
        "\n",
        "         0 -1.649e+03  2.068e+04\n",
        "         5     -487.4  4.287e+03"
       ]
      },
      {
       "output_type": "stream",
       "stream": "stdout",
       "text": [
        "\n",
        "        10     -246.7  2.049e+03"
       ]
      },
      {
       "output_type": "stream",
       "stream": "stdout",
       "text": [
        "\n",
        "        15     -147.7  1.001e+03"
       ]
      },
      {
       "output_type": "stream",
       "stream": "stdout",
       "text": [
        "\n",
        "        20     -115.5      672.3"
       ]
      },
      {
       "output_type": "stream",
       "stream": "stdout",
       "text": [
        "\n",
        "        25     -82.98      577.9"
       ]
      },
      {
       "output_type": "stream",
       "stream": "stdout",
       "text": [
        "\n",
        "        30     -63.91      345.0"
       ]
      },
      {
       "output_type": "stream",
       "stream": "stdout",
       "text": [
        "\n",
        "        35     -55.17      265.4"
       ]
      },
      {
       "output_type": "stream",
       "stream": "stdout",
       "text": [
        "\n",
        "        40     -44.46      161.2"
       ]
      },
      {
       "output_type": "stream",
       "stream": "stdout",
       "text": [
        "\n",
        "        45     -39.25      107.6"
       ]
      },
      {
       "output_type": "stream",
       "stream": "stdout",
       "text": [
        "\n",
        "0.0574326192676"
       ]
      },
      {
       "output_type": "stream",
       "stream": "stdout",
       "text": [
        " 0.998738965952 0.964270701976\n",
        "0.135335283237\n",
        "Iteration  Log-likelihood |gradient|"
       ]
      },
      {
       "output_type": "stream",
       "stream": "stdout",
       "text": [
        "\n",
        "         0 -1.649e+03  2.066e+04\n",
        "         5     -504.9   4.55e+03"
       ]
      },
      {
       "output_type": "stream",
       "stream": "stdout",
       "text": [
        "\n",
        "        10     -280.6  2.319e+03"
       ]
      },
      {
       "output_type": "stream",
       "stream": "stdout",
       "text": [
        "\n",
        "        15     -195.3  1.515e+03"
       ]
      },
      {
       "output_type": "stream",
       "stream": "stdout",
       "text": [
        "\n",
        "        20     -116.3      706.4"
       ]
      },
      {
       "output_type": "stream",
       "stream": "stdout",
       "text": [
        "\n",
        "        25     -89.85      623.1"
       ]
      },
      {
       "output_type": "stream",
       "stream": "stdout",
       "text": [
        "\n",
        "        30      -70.5      416.7"
       ]
      },
      {
       "output_type": "stream",
       "stream": "stdout",
       "text": [
        "\n",
        "        35     -62.93      229.4"
       ]
      },
      {
       "output_type": "stream",
       "stream": "stdout",
       "text": [
        "\n",
        "        40      -59.1      202.9"
       ]
      },
      {
       "output_type": "stream",
       "stream": "stdout",
       "text": [
        "\n",
        "        45     -54.88      162.8"
       ]
      },
      {
       "output_type": "stream",
       "stream": "stdout",
       "text": [
        "\n",
        "0.135335283237"
       ]
      },
      {
       "output_type": "stream",
       "stream": "stdout",
       "text": [
        " 0.998738965952 0.970575872215\n",
        "0.318906557324\n",
        "Iteration  Log-likelihood |gradient|"
       ]
      },
      {
       "output_type": "stream",
       "stream": "stdout",
       "text": [
        "\n",
        "         0 -1.649e+03  2.121e+04\n",
        "         5     -445.2  4.642e+03"
       ]
      },
      {
       "output_type": "stream",
       "stream": "stdout",
       "text": [
        "\n",
        "        10     -189.0  2.135e+03"
       ]
      },
      {
       "output_type": "stream",
       "stream": "stdout",
       "text": [
        "\n",
        "        15     -141.4  1.238e+03"
       ]
      },
      {
       "output_type": "stream",
       "stream": "stdout",
       "text": [
        "\n",
        "        20     -95.77      479.2"
       ]
      },
      {
       "output_type": "stream",
       "stream": "stdout",
       "text": [
        "\n",
        "        25     -82.66      374.4"
       ]
      },
      {
       "output_type": "stream",
       "stream": "stdout",
       "text": [
        "\n",
        "        30     -76.86      269.3"
       ]
      },
      {
       "output_type": "stream",
       "stream": "stdout",
       "text": [
        "\n",
        "        35     -72.41      218.7"
       ]
      },
      {
       "output_type": "stream",
       "stream": "stdout",
       "text": [
        "\n",
        "        40     -70.47      165.0"
       ]
      },
      {
       "output_type": "stream",
       "stream": "stdout",
       "text": [
        "\n",
        "        45     -68.53      178.2"
       ]
      },
      {
       "output_type": "stream",
       "stream": "stdout",
       "text": [
        "\n",
        "0.318906557324"
       ]
      },
      {
       "output_type": "stream",
       "stream": "stdout",
       "text": [
        " 0.999159310635 0.965531736024\n",
        "0.751477293075\n",
        "Iteration  Log-likelihood |gradient|"
       ]
      },
      {
       "output_type": "stream",
       "stream": "stdout",
       "text": [
        "\n",
        "         0 -1.649e+03  2.013e+04\n",
        "         5     -541.1  4.832e+03"
       ]
      },
      {
       "output_type": "stream",
       "stream": "stdout",
       "text": [
        "\n",
        "        10     -298.1  2.092e+03"
       ]
      },
      {
       "output_type": "stream",
       "stream": "stdout",
       "text": [
        "\n",
        "        15     -201.5  1.236e+03"
       ]
      },
      {
       "output_type": "stream",
       "stream": "stdout",
       "text": [
        "\n",
        "        20     -166.3      831.7"
       ]
      },
      {
       "output_type": "stream",
       "stream": "stdout",
       "text": [
        "\n",
        "        25     -149.5      818.8"
       ]
      },
      {
       "output_type": "stream",
       "stream": "stdout",
       "text": [
        "\n",
        "        30     -135.7      485.5"
       ]
      },
      {
       "output_type": "stream",
       "stream": "stdout",
       "text": [
        "\n",
        "        35     -128.5      575.9"
       ]
      },
      {
       "output_type": "stream",
       "stream": "stdout",
       "text": [
        "\n",
        "        40     -123.2      487.8"
       ]
      },
      {
       "output_type": "stream",
       "stream": "stdout",
       "text": [
        "\n",
        "        45     -116.6      371.0"
       ]
      },
      {
       "output_type": "stream",
       "stream": "stdout",
       "text": [
        "\n",
        "0.751477293075"
       ]
      },
      {
       "output_type": "stream",
       "stream": "stdout",
       "text": [
        " 0.998318621269 0.967633459437\n",
        "1.77079495244\n",
        "Iteration  Log-likelihood |gradient|"
       ]
      },
      {
       "output_type": "stream",
       "stream": "stdout",
       "text": [
        "\n",
        "         0 -1.649e+03  2.128e+04\n",
        "         5     -529.2    5.8e+03"
       ]
      },
      {
       "output_type": "stream",
       "stream": "stdout",
       "text": [
        "\n",
        "        10     -299.4  2.185e+03"
       ]
      },
      {
       "output_type": "stream",
       "stream": "stdout",
       "text": [
        "\n",
        "        15     -219.1  1.032e+03"
       ]
      },
      {
       "output_type": "stream",
       "stream": "stdout",
       "text": [
        "\n",
        "        20     -196.1      609.8"
       ]
      },
      {
       "output_type": "stream",
       "stream": "stdout",
       "text": [
        "\n",
        "        25     -186.1      665.8"
       ]
      },
      {
       "output_type": "stream",
       "stream": "stdout",
       "text": [
        "\n",
        "        30     -173.0      450.3"
       ]
      },
      {
       "output_type": "stream",
       "stream": "stdout",
       "text": [
        "\n",
        "        35     -166.4      372.0"
       ]
      },
      {
       "output_type": "stream",
       "stream": "stdout",
       "text": [
        "\n",
        "        40     -163.3      308.1"
       ]
      },
      {
       "output_type": "stream",
       "stream": "stdout",
       "text": [
        "\n",
        "        45     -161.0      237.6"
       ]
      },
      {
       "output_type": "stream",
       "stream": "stdout",
       "text": [
        "\n",
        "1.77079495244"
       ]
      },
      {
       "output_type": "stream",
       "stream": "stdout",
       "text": [
        " 0.993274485078 0.96973518285\n",
        "4.1727338836\n",
        "Iteration  Log-likelihood |gradient|"
       ]
      },
      {
       "output_type": "stream",
       "stream": "stdout",
       "text": [
        "\n",
        "         0 -1.649e+03  2.054e+04\n",
        "         5     -537.0  4.589e+03"
       ]
      },
      {
       "output_type": "stream",
       "stream": "stdout",
       "text": [
        "\n",
        "        10     -357.3  2.446e+03"
       ]
      },
      {
       "output_type": "stream",
       "stream": "stdout",
       "text": [
        "\n",
        "        15     -292.2  1.098e+03"
       ]
      },
      {
       "output_type": "stream",
       "stream": "stdout",
       "text": [
        "\n",
        "        20     -278.6      730.5"
       ]
      },
      {
       "output_type": "stream",
       "stream": "stdout",
       "text": [
        "\n",
        "        25     -269.8      537.3"
       ]
      },
      {
       "output_type": "stream",
       "stream": "stdout",
       "text": [
        "\n",
        "        30     -266.8      620.7"
       ]
      },
      {
       "output_type": "stream",
       "stream": "stdout",
       "text": [
        "\n",
        "        35     -261.9      562.8"
       ]
      },
      {
       "output_type": "stream",
       "stream": "stdout",
       "text": [
        "\n",
        "        40     -258.5      287.4"
       ]
      },
      {
       "output_type": "stream",
       "stream": "stdout",
       "text": [
        "\n",
        "        45     -257.0      206.8"
       ]
      },
      {
       "output_type": "stream",
       "stream": "stdout",
       "text": [
        "\n",
        "4.1727338836"
       ]
      },
      {
       "output_type": "stream",
       "stream": "stdout",
       "text": [
        " 0.983606557377 0.970996216898\n",
        "9.83270707847\n",
        "Iteration  Log-likelihood |gradient|"
       ]
      },
      {
       "output_type": "stream",
       "stream": "stdout",
       "text": [
        "\n",
        "         0 -1.649e+03  2.092e+04\n",
        "         5     -550.1    4.4e+03"
       ]
      },
      {
       "output_type": "stream",
       "stream": "stdout",
       "text": [
        "\n",
        "        10     -382.7  1.915e+03"
       ]
      },
      {
       "output_type": "stream",
       "stream": "stdout",
       "text": [
        "\n",
        "        15     -362.1   1.22e+03"
       ]
      },
      {
       "output_type": "stream",
       "stream": "stdout",
       "text": [
        "\n",
        "        20     -356.4  1.096e+03"
       ]
      },
      {
       "output_type": "stream",
       "stream": "stdout",
       "text": [
        "\n",
        "        25     -352.9      336.7"
       ]
      },
      {
       "output_type": "stream",
       "stream": "stdout",
       "text": [
        "\n",
        "        30     -352.2      252.7"
       ]
      },
      {
       "output_type": "stream",
       "stream": "stdout",
       "text": [
        "\n",
        "        35     -351.5      200.3"
       ]
      },
      {
       "output_type": "stream",
       "stream": "stdout",
       "text": [
        "\n",
        "        40     -350.9      321.1"
       ]
      },
      {
       "output_type": "stream",
       "stream": "stdout",
       "text": [
        "\n",
        "        45     -348.6      692.0"
       ]
      },
      {
       "output_type": "stream",
       "stream": "stdout",
       "text": [
        "\n",
        "9.83270707847"
       ]
      },
      {
       "output_type": "stream",
       "stream": "stdout",
       "text": [
        " 0.970155527533 0.965952080706\n",
        "23.1699722983\n",
        "Iteration  Log-likelihood |gradient|"
       ]
      },
      {
       "output_type": "stream",
       "stream": "stdout",
       "text": [
        "\n",
        "         0 -1.649e+03  2.238e+04\n",
        "         5     -518.3  4.438e+03"
       ]
      },
      {
       "output_type": "stream",
       "stream": "stdout",
       "text": [
        "\n",
        "        10     -420.7  1.211e+03"
       ]
      },
      {
       "output_type": "stream",
       "stream": "stdout",
       "text": [
        "\n",
        "        15     -404.9      285.8"
       ]
      },
      {
       "output_type": "stream",
       "stream": "stdout",
       "text": [
        "\n",
        "        20     -403.8      169.6"
       ]
      },
      {
       "output_type": "stream",
       "stream": "stdout",
       "text": [
        "\n",
        "        25     -403.4      100.8"
       ]
      },
      {
       "output_type": "stream",
       "stream": "stdout",
       "text": [
        "\n",
        "        30     -403.0      611.5"
       ]
      },
      {
       "output_type": "stream",
       "stream": "stdout",
       "text": [
        "\n",
        "        35     -401.0      677.6"
       ]
      },
      {
       "output_type": "stream",
       "stream": "stdout",
       "text": [
        "\n",
        "        40     -398.8      461.7"
       ]
      },
      {
       "output_type": "stream",
       "stream": "stdout",
       "text": [
        "\n",
        "        45     -397.0      334.7"
       ]
      },
      {
       "output_type": "stream",
       "stream": "stdout",
       "text": [
        "\n",
        "23.1699722983"
       ]
      },
      {
       "output_type": "stream",
       "stream": "stdout",
       "text": [
        " 0.973097940311 0.950819672131\n",
        "54.5981500331\n",
        "Iteration  Log-likelihood |gradient|"
       ]
      },
      {
       "output_type": "stream",
       "stream": "stdout",
       "text": [
        "\n",
        "         0 -1.649e+03   2.11e+04\n",
        "         5     -637.6  5.124e+03"
       ]
      },
      {
       "output_type": "stream",
       "stream": "stdout",
       "text": [
        "\n",
        "        10     -575.1      473.8"
       ]
      },
      {
       "output_type": "stream",
       "stream": "stdout",
       "text": [
        "\n",
        "        15     -573.7      113.4"
       ]
      },
      {
       "output_type": "stream",
       "stream": "stdout",
       "text": [
        "\n",
        "        20     -573.7      31.92"
       ]
      },
      {
       "output_type": "stream",
       "stream": "stdout",
       "text": [
        "\n",
        "        25     -573.7      30.32"
       ]
      },
      {
       "output_type": "stream",
       "stream": "stdout",
       "text": [
        "\n",
        "        30     -573.7      3.858"
       ]
      },
      {
       "output_type": "stream",
       "stream": "stdout",
       "text": [
        "\n",
        "        35     -573.7     0.6938"
       ]
      },
      {
       "output_type": "stream",
       "stream": "stdout",
       "text": [
        "\n",
        "54.5981500331"
       ]
      },
      {
       "output_type": "stream",
       "stream": "stdout",
       "text": [
        " 0.947877259353 0.952080706179\n"
       ]
      }
     ],
     "prompt_number": 47
    },
    {
     "cell_type": "code",
     "collapsed": false,
     "input": [
      "plt.xscale('log')\n",
      "plt.scatter([(i) for i in regs], [acc for acc in accs_val], marker='x')\n",
      "plt.scatter([(i) for i in regs], [acc for acc in accs_train], c='r', marker='x')"
     ],
     "language": "python",
     "metadata": {},
     "outputs": [
      {
       "metadata": {},
       "output_type": "pyout",
       "prompt_number": 56,
       "text": [
        "<matplotlib.collections.PathCollection at 0x27e87e5d0>"
       ]
      },
      {
       "metadata": {},
       "output_type": "display_data",
       "png": "[encoded data removed]",
       "text": [
        "<matplotlib.figure.Figure at 0x27fb202d0>"
       ]
      }
     ],
     "prompt_number": 56
    },
    {
     "cell_type": "markdown",
     "metadata": {},
     "source": [
      "Looks like the value of 1 is good enough to continue with."
     ]
    },
    {
     "cell_type": "markdown",
     "metadata": {},
     "source": [
      "## Train model with this regularisation"
     ]
    },
    {
     "cell_type": "code",
     "collapsed": false,
     "input": [
      "m = Hacrf(l2_regularization=1.0, optimizer=fmin_l_bfgs_b, optimizer_kwargs={'maxfun': 25}, state_machine=None)\n",
      "m.fit(x_train, y_train, verbosity=1)"
     ],
     "language": "python",
     "metadata": {},
     "outputs": [
      {
       "output_type": "stream",
       "stream": "stdout",
       "text": [
        "Iteration  Log-likelihood |gradient|\n",
        "         0 -3.298e+03  4.025e+04\n",
        "         1 -2.045e+03   7.72e+04"
       ]
      },
      {
       "output_type": "stream",
       "stream": "stdout",
       "text": [
        "\n",
        "         2     -919.4  1.561e+04"
       ]
      },
      {
       "output_type": "stream",
       "stream": "stdout",
       "text": [
        "\n",
        "         3     -854.8   1.05e+04"
       ]
      },
      {
       "output_type": "stream",
       "stream": "stdout",
       "text": [
        "\n",
        "         4     -813.3  6.831e+03"
       ]
      },
      {
       "output_type": "stream",
       "stream": "stdout",
       "text": [
        "\n",
        "         5     -805.6  6.903e+03"
       ]
      },
      {
       "output_type": "stream",
       "stream": "stdout",
       "text": [
        "\n",
        "         6     -780.4  7.293e+03"
       ]
      },
      {
       "output_type": "stream",
       "stream": "stdout",
       "text": [
        "\n",
        "         7     -717.8  6.707e+03"
       ]
      },
      {
       "output_type": "stream",
       "stream": "stdout",
       "text": [
        "\n",
        "         8     -672.1  4.756e+03"
       ]
      },
      {
       "output_type": "stream",
       "stream": "stdout",
       "text": [
        "\n",
        "         9     -631.3  4.123e+03"
       ]
      },
      {
       "output_type": "stream",
       "stream": "stdout",
       "text": [
        "\n",
        "        10     -601.5  4.635e+03"
       ]
      },
      {
       "output_type": "stream",
       "stream": "stdout",
       "text": [
        "\n",
        "        11     -572.1  4.707e+03"
       ]
      },
      {
       "output_type": "stream",
       "stream": "stdout",
       "text": [
        "\n",
        "        12     -472.8  3.339e+03"
       ]
      },
      {
       "output_type": "stream",
       "stream": "stdout",
       "text": [
        "\n",
        "        13     -457.3  3.873e+03"
       ]
      },
      {
       "output_type": "stream",
       "stream": "stdout",
       "text": [
        "\n",
        "        14     -447.9    3.2e+03"
       ]
      },
      {
       "output_type": "stream",
       "stream": "stdout",
       "text": [
        "\n",
        "        15     -420.0  3.148e+03"
       ]
      },
      {
       "output_type": "stream",
       "stream": "stdout",
       "text": [
        "\n",
        "        16     -401.7  3.338e+03"
       ]
      },
      {
       "output_type": "stream",
       "stream": "stdout",
       "text": [
        "\n",
        "        17     -398.5  5.033e+03"
       ]
      },
      {
       "output_type": "stream",
       "stream": "stdout",
       "text": [
        "\n",
        "        18     -375.9   2.05e+03"
       ]
      },
      {
       "output_type": "stream",
       "stream": "stdout",
       "text": [
        "\n",
        "        19     -372.2  1.839e+03"
       ]
      },
      {
       "output_type": "stream",
       "stream": "stdout",
       "text": [
        "\n",
        "        20     -367.9  1.724e+03"
       ]
      },
      {
       "output_type": "stream",
       "stream": "stdout",
       "text": [
        "\n",
        "        21     -356.7  1.753e+03"
       ]
      },
      {
       "output_type": "stream",
       "stream": "stdout",
       "text": [
        "\n",
        "        22     -348.0  1.531e+03"
       ]
      },
      {
       "output_type": "stream",
       "stream": "stdout",
       "text": [
        "\n",
        "        23     -355.1  2.022e+03"
       ]
      },
      {
       "output_type": "stream",
       "stream": "stdout",
       "text": [
        "\n",
        "        24     -337.4  1.956e+03"
       ]
      },
      {
       "output_type": "stream",
       "stream": "stdout",
       "text": [
        "\n",
        "        25     -327.8  1.623e+03"
       ]
      },
      {
       "output_type": "stream",
       "stream": "stdout",
       "text": [
        "\n"
       ]
      },
      {
       "metadata": {},
       "output_type": "pyout",
       "prompt_number": 22,
       "text": [
        "<pyhacrf.pyhacrf.Hacrf at 0x27b3d2a90>"
       ]
      }
     ],
     "prompt_number": 22
    },
    {
     "cell_type": "code",
     "collapsed": false,
     "input": [
      "from sklearn.metrics import accuracy_score"
     ],
     "language": "python",
     "metadata": {},
     "outputs": [],
     "prompt_number": 23
    },
    {
     "cell_type": "code",
     "collapsed": false,
     "input": [
      "from sklearn.metrics import confusion_matrix\n",
      "pr = m.predict(x_train[:1000])\n",
      "print confusion_matrix(y_train[:1000], pr)\n",
      "print 1 - accuracy_score(y_train[:1000], pr)"
     ],
     "language": "python",
     "metadata": {},
     "outputs": [
      {
       "output_type": "stream",
       "stream": "stdout",
       "text": [
        "[[505   8]\n",
        " [  9 478]]\n",
        "0.017\n"
       ]
      }
     ],
     "prompt_number": 24
    },
    {
     "cell_type": "code",
     "collapsed": false,
     "input": [
      "pr = m.predict(x_test[:1000])\n",
      "print confusion_matrix(y_test[:1000], pr)\n",
      "print 1 - accuracy_score(y_test[:1000], pr)"
     ],
     "language": "python",
     "metadata": {},
     "outputs": [
      {
       "output_type": "stream",
       "stream": "stdout",
       "text": [
        "[[497   7]\n",
        " [ 15 481]]\n",
        "0.022\n"
       ]
      }
     ],
     "prompt_number": 25
    },
    {
     "cell_type": "code",
     "collapsed": false,
     "input": [
      "for incorrect, correct in ppairs_test[:10]:\n",
      "    test_pairs = [(incorrect, candidate) for _, candidate in ppairs_test[:100]]\n",
      "    x_test = fe.fit_transform(test_pairs)\n",
      "    pr = m.predict_proba(x_test)\n",
      "    cr = zip(pr, test_pairs)\n",
      "    cr = sorted(cr, key=lambda x: -x[0][0])\n",
      "    print cr[:10]\n",
      "    print"
     ],
     "language": "python",
     "metadata": {},
     "outputs": [
      {
       "output_type": "stream",
       "stream": "stdout",
       "text": [
        "[(array([  9.99153724e-01,   8.46276000e-04]), ('jokies', 'jokes')), (array([ 0.55789078,  0.44210922]), ('jokies', \"justin's\")), (array([ 0.40084725,  0.59915275]), ('jokies', 'joy')), (array([ 0.35161396,  0.64838604]), ('jokies', 'hoes')), (array([ 0.30738847,  0.69261153]), ('jokies', 'parties')), (array([ 0.139653,  0.860347]), ('jokies', 'just')), (array([ 0.1054469,  0.8945531]), ('jokies', 'stresses')), (array([ 0.09307869,  0.90692131]), ('jokies', 'successes')), (array([ 0.06185533,  0.93814467]), ('jokies', 'friends')), (array([ 0.02047876,  0.97952124]), ('jokies', 'followers'))]\n",
        "\n",
        "[(array([ 0.99607852,  0.00392148]), ('payed', 'paid')), (array([ 0.99216771,  0.00783229]), ('payed', 'prayer')), (array([ 0.89248028,  0.10751972]), ('payed', 'happened')), (array([ 0.87548887,  0.12451113]), ('payed', 'paradise')), (array([ 0.81939458,  0.18060542]), ('payed', 'parties')), (array([ 0.80703333,  0.19296667]), ('payed', 'please')), (array([ 0.47977942,  0.52022058]), ('payed', 'scanned')), (array([ 0.43706652,  0.56293348]), ('payed', 'mad')), (array([ 0.26278196,  0.73721804]), ('payed', 'road')), (array([ 0.26007835,  0.73992165]), ('payed', 'bye'))]"
       ]
      },
      {
       "output_type": "stream",
       "stream": "stdout",
       "text": [
        "\n",
        "\n",
        "[(array([  9.99990769e-01,   9.23135287e-06]), ('comming', 'coming')), (array([ 0.83826458,  0.16173542]), ('comming', 'cousin')), (array([ 0.79024263,  0.20975737]), ('comming', 'boring')), (array([ 0.70112691,  0.29887309]), ('comming', 'doing')), (array([ 0.37843946,  0.62156054]), ('comming', 'growing')), (array([ 0.27189859,  0.72810141]), ('comming', 'living')), (array([ 0.25012062,  0.74987938]), ('comming', 'giving')), (array([ 0.21963446,  0.78036554]), ('comming', 'bothering')), (array([ 0.19181674,  0.80818326]), ('comming', 'convict')), (array([ 0.13446759,  0.86553241]), ('comming', 'mom'))]"
       ]
      },
      {
       "output_type": "stream",
       "stream": "stdout",
       "text": [
        "\n",
        "\n",
        "[(array([ 0.99880874,  0.00119126]), ('joyyyyyy', 'joy')), (array([ 0.83280839,  0.16719161]), ('joyyyyyy', 'my')), (array([ 0.34106626,  0.65893374]), ('joyyyyyy', 'why')), (array([ 0.33019298,  0.66980702]), ('joyyyyyy', 'only')), (array([ 0.22947123,  0.77052877]), ('joyyyyyy', 'bye')), (array([ 0.22947123,  0.77052877]), ('joyyyyyy', 'bye')), (array([ 0.03326637,  0.96673363]), ('joyyyyyy', 'chevy')), (array([ 0.01390336,  0.98609664]), ('joyyyyyy', 'jokes')), (array([ 0.01244473,  0.98755527]), ('joyyyyyy', 'you')), (array([ 0.01244473,  0.98755527]), ('joyyyyyy', 'you'))]"
       ]
      },
      {
       "output_type": "stream",
       "stream": "stdout",
       "text": [
        "\n",
        "\n",
        "[(array([  9.99874950e-01,   1.25050448e-04]), ('growin', 'growing')), (array([ 0.60178636,  0.39821364]), ('growin', 'giving')), (array([ 0.32614534,  0.67385466]), ('growin', 'boring')), (array([ 0.25571791,  0.74428209]), ('growin', 'cousin')), (array([ 0.20408718,  0.79591282]), ('growin', 'good')), (array([ 0.13118528,  0.86881472]), ('growin', 'god')), (array([ 0.11590276,  0.88409724]), ('growin', 'friend')), (array([ 0.11466127,  0.88533873]), ('growin', 'doing')), (array([ 0.08145305,  0.91854695]), ('growin', 'wearing')), (array([ 0.05897723,  0.94102277]), ('growin', 'freshman'))]"
       ]
      },
      {
       "output_type": "stream",
       "stream": "stdout",
       "text": [
        "\n",
        "\n",
        "[(array([  9.99990784e-01,   9.21558310e-06]), ('botherin', 'bothering')), (array([ 0.95951799,  0.04048201]), ('botherin', 'boring')), (array([ 0.60288012,  0.39711988]), ('botherin', 'veteran')), (array([ 0.37255523,  0.62744477]), ('botherin', 'otherwise')), (array([ 0.06186165,  0.93813835]), ('botherin', 'cousin')), (array([ 0.04683349,  0.95316651]), ('botherin', 'bit')), (array([ 0.03363509,  0.96636491]), ('botherin', 'wearing')), (array([ 0.02937726,  0.97062274]), ('botherin', 'bye')), (array([ 0.02937726,  0.97062274]), ('botherin', 'bye')), (array([ 0.01419989,  0.98580011]), ('botherin', 'the'))]"
       ]
      },
      {
       "output_type": "stream",
       "stream": "stdout",
       "text": [
        "\n",
        "\n",
        "[(array([  9.99840669e-01,   1.59331083e-04]), ('konvict', 'convict')), (array([ 0.29666827,  0.70333173]), ('konvict', 'disconnect')), (array([ 0.27522366,  0.72477634]), ('konvict', \"don't\")), (array([ 0.08417161,  0.91582839]), ('konvict', 'bit')), (array([ 0.03236422,  0.96763578]), ('konvict', 'forecast')), (array([ 0.01825296,  0.98174704]), ('konvict', 'out')), (array([ 0.01565031,  0.98434969]), ('konvict', 'scientific')), (array([ 0.01392264,  0.98607736]), ('konvict', 'it')), (array([ 0.00976689,  0.99023311]), ('konvict', 'only')), (array([ 0.00724285,  0.99275715]), ('konvict', 'get'))]"
       ]
      },
      {
       "output_type": "stream",
       "stream": "stdout",
       "text": [
        "\n",
        "\n",
        "[(array([ 0.81789653,  0.18210347]), ('da', 'douche')), (array([ 0.80876098,  0.19123902]), ('da', \"don't\")), (array([ 0.75875629,  0.24124371]), ('da', 'doing')), (array([ 0.70875979,  0.29124021]), ('da', 'dick')), (array([ 0.6562754,  0.3437246]), ('da', 'dancing')), (array([ 0.52300475,  0.47699525]), ('da', 'take')), (array([ 0.50147556,  0.49852444]), ('da', 'that')), (array([ 0.32351606,  0.67648394]), ('da', 'mad')), (array([ 0.32286599,  0.67713401]), ('da', 'paradise')), (array([ 0.3124871,  0.6875129]), ('da', 'years'))]"
       ]
      },
      {
       "output_type": "stream",
       "stream": "stdout",
       "text": [
        "\n",
        "\n",
        "[(array([  9.99902996e-01,   9.70040595e-05]), ('dickk', 'dick')), (array([ 0.93538347,  0.06461653]), ('dickk', 'back')), (array([ 0.72008092,  0.27991908]), ('dickk', 'disconnect')), (array([ 0.71548613,  0.28451387]), ('dickk', 'black')), (array([ 0.38234952,  0.61765048]), ('dickk', 'dancing')), (array([ 0.36601518,  0.63398482]), ('dickk', 'doing')), (array([ 0.35280734,  0.64719266]), ('dickk', 'douche')), (array([ 0.0707748,  0.9292252]), ('dickk', 'take')), (array([ 0.04355479,  0.95644521]), ('dickk', \"don't\")), (array([ 0.04118676,  0.95881324]), ('dickk', 'bit'))]"
       ]
      },
      {
       "output_type": "stream",
       "stream": "stdout",
       "text": [
        "\n",
        "\n",
        "[(array([  9.99697357e-01,   3.02642800e-04]), ('steem', 'steam')), (array([ 0.95682839,  0.04317161]), ('steem', 'sister')), (array([ 0.94293801,  0.05706199]), ('steem', 'them')), (array([ 0.90936089,  0.09063911]), ('steem', 'stresses')), (array([ 0.81064864,  0.18935136]), ('steem', 'same')), (array([ 0.79360108,  0.20639892]), ('steem', 'studied')), (array([ 0.77263527,  0.22736473]), ('steem', 'upstream')), (array([ 0.6123961,  0.3876039]), ('steem', 'shouted')), (array([ 0.25873884,  0.74126116]), ('steem', 'successes')), (array([ 0.25551226,  0.74448774]), ('steem', 'mom'))]"
       ]
      },
      {
       "output_type": "stream",
       "stream": "stdout",
       "text": [
        "\n",
        "\n"
       ]
      }
     ],
     "prompt_number": 26
    },
    {
     "cell_type": "code",
     "collapsed": false,
     "input": [
      "%%timeit\n",
      "fe = StringPairFeatureExtractor(start=True, end=True, match=True, numeric=True, transition=True)\n",
      "x_test = fe.fit_transform([('data base record number 125.',\n",
      "                            'this is another db record, maybe matching'),\n",
      "                           ('data base record number 125.',\n",
      "                            'probably doesn\"t match'),\n",
      "                           ('data base record number 125.',\n",
      "                            'db. record nr 125.'),\n",
      "                           ('data base record number 125.',\n",
      "                            'very very very long record to test how slow this thing can get')])\n",
      "print m.predict_proba(x_test)"
     ],
     "language": "python",
     "metadata": {},
     "outputs": [
      {
       "output_type": "stream",
       "stream": "stdout",
       "text": [
        "[[ 0.6457832   0.3542168 ]\n",
        " [ 0.00104701  0.99895299]\n",
        " [ 0.97668418  0.02331582]\n",
        " [ 0.00135704  0.99864296]]\n",
        "[[ 0.6457832   0.3542168 ]\n",
        " [ 0.00104701  0.99895299]\n",
        " [ 0.97668418  0.02331582]\n",
        " [ 0.00135704  0.99864296]]"
       ]
      },
      {
       "output_type": "stream",
       "stream": "stdout",
       "text": [
        "\n",
        "[[ 0.6457832   0.3542168 ]\n",
        " [ 0.00104701  0.99895299]\n",
        " [ 0.97668418  0.02331582]\n",
        " [ 0.00135704  0.99864296]]"
       ]
      },
      {
       "output_type": "stream",
       "stream": "stdout",
       "text": [
        "\n",
        "[[ 0.6457832   0.3542168 ]\n",
        " [ 0.00104701  0.99895299]\n",
        " [ 0.97668418  0.02331582]\n",
        " [ 0.00135704  0.99864296]]"
       ]
      },
      {
       "output_type": "stream",
       "stream": "stdout",
       "text": [
        "\n",
        "1 loops, best of 3: 797 ms per loop\n"
       ]
      }
     ],
     "prompt_number": 194
    },
    {
     "cell_type": "code",
     "collapsed": false,
     "input": [
      "import datetime"
     ],
     "language": "python",
     "metadata": {},
     "outputs": [],
     "prompt_number": 83
    },
    {
     "cell_type": "code",
     "collapsed": false,
     "input": [
      "n = datetime.datetime.now()\n",
      "n"
     ],
     "language": "python",
     "metadata": {},
     "outputs": [
      {
       "metadata": {},
       "output_type": "pyout",
       "prompt_number": 91,
       "text": [
        "datetime.datetime(2015, 5, 13, 18, 47, 14, 673488)"
       ]
      }
     ],
     "prompt_number": 91
    },
    {
     "cell_type": "code",
     "collapsed": false,
     "input": [
      "datetime.datetime?"
     ],
     "language": "python",
     "metadata": {},
     "outputs": [],
     "prompt_number": 102
    }
   ],
   "metadata": {}
  }
 ]
}