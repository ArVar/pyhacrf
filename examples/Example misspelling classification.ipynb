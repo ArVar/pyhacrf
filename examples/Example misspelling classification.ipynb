{
 "metadata": {
  "name": "",
  "signature": "sha256:d29230c20fd6cb99deebebafe5b1221770129390747857cf287943bef9d00996"
 },
 "nbformat": 3,
 "nbformat_minor": 0,
 "worksheets": [
  {
   "cells": [
    {
     "cell_type": "code",
     "collapsed": false,
     "input": [
      "%load_ext autoreload\n",
      "%autoreload 2"
     ],
     "language": "python",
     "metadata": {},
     "outputs": [],
     "prompt_number": 1
    },
    {
     "cell_type": "code",
     "collapsed": false,
     "input": [
      "%matplotlib inline\n",
      "import matplotlib.pyplot as plt"
     ],
     "language": "python",
     "metadata": {},
     "outputs": [],
     "prompt_number": 41
    },
    {
     "cell_type": "markdown",
     "metadata": {},
     "source": [
      "# Hidden Alignment CRF for spelling correction\n",
      "\n",
      "This is an example to show how the model can be used to score candidate corrections."
     ]
    },
    {
     "cell_type": "markdown",
     "metadata": {},
     "source": [
      "## Training data\n",
      "\n",
      "Fei Liu and others collected string pairs from social media and this excellent source is available at:\n",
      "\n",
      "http://www.hlt.utdallas.edu/~yangl/data/Text_Norm_Data_Release_Fei_Liu/"
     ]
    },
    {
     "cell_type": "code",
     "collapsed": false,
     "input": [
      "lines = open('Test_Set_3802_Pairs.txt', 'r').readlines()\n",
      "ppairs = [line.split('\\t')[1].strip().split(' | ') for line in lines]\n",
      "ppairs = [(pair[0], pair[i]) for pair in ppairs for i in xrange(1, len(pair))]\n",
      "print len(ppairs)\n",
      "ppairs[:5]"
     ],
     "language": "python",
     "metadata": {},
     "outputs": [
      {
       "output_type": "stream",
       "stream": "stdout",
       "text": [
        "3974\n"
       ]
      },
      {
       "metadata": {},
       "output_type": "pyout",
       "prompt_number": 2,
       "text": [
        "[('0kkay', 'okay'),\n",
        " ('0n', 'on'),\n",
        " ('0neee', 'one'),\n",
        " ('0r', 'or'),\n",
        " ('1s', 'once')]"
       ]
      }
     ],
     "prompt_number": 2
    },
    {
     "cell_type": "markdown",
     "metadata": {},
     "source": [
      "Let's keep 1000 of these pairs out to evaluate the final performance of the model."
     ]
    },
    {
     "cell_type": "code",
     "collapsed": false,
     "input": [
      "from sklearn.cross_validation import train_test_split\n",
      "ppairs_train, ppairs_test = train_test_split(ppairs, test_size=1000, random_state=1)\n",
      "ppairs_train = [tuple(ppair_train) for ppair_train in ppairs_train]\n",
      "ppairs_test = [tuple(ppair_test) for ppair_test in ppairs_test]\n",
      "print len(ppairs_train), len(ppairs_test)"
     ],
     "language": "python",
     "metadata": {},
     "outputs": [
      {
       "output_type": "stream",
       "stream": "stdout",
       "text": [
        "2974 1000\n"
       ]
      }
     ],
     "prompt_number": 3
    },
    {
     "cell_type": "markdown",
     "metadata": {},
     "source": [
      "## Negative training examples\n",
      "\n",
      "The model needs both positive examples (examples of matching string pairs) and negative examples (examples of strings that do not match). To generate the negative examples, let's just pair shuffle the positive examples:"
     ]
    },
    {
     "cell_type": "code",
     "collapsed": false,
     "input": [
      "from numpy.random import shuffle \n",
      "incorrect = list(zip(*ppairs_train)[0])\n",
      "shuffle(incorrect)\n",
      "correct = list(zip(*ppairs_train)[1])\n",
      "npairs_train = zip(incorrect, correct)\n",
      "npairs_train[:5]"
     ],
     "language": "python",
     "metadata": {},
     "outputs": [
      {
       "metadata": {},
       "output_type": "pyout",
       "prompt_number": 4,
       "text": [
        "[('sausge', 'uses'),\n",
        " ('finnally', 'mummy'),\n",
        " ('kall', 'shit'),\n",
        " ('backkk', 'transfered'),\n",
        " ('bich', 'morning')]"
       ]
      }
     ],
     "prompt_number": 4
    },
    {
     "cell_type": "markdown",
     "metadata": {},
     "source": [
      "Concatenate the positive and negative examples and create labels - `0` for matching pairs and `1` for non-matching pairs."
     ]
    },
    {
     "cell_type": "code",
     "collapsed": true,
     "input": [
      "x_raw = ppairs_train + npairs_train\n",
      "y_orig = [0] * len(ppairs_train) + [1] * len(npairs_train)"
     ],
     "language": "python",
     "metadata": {},
     "outputs": [],
     "prompt_number": 5
    },
    {
     "cell_type": "markdown",
     "metadata": {},
     "source": [
      "## Extract features\n",
      "\n",
      "For this example let's just extract all possible features instead of doing feature selection."
     ]
    },
    {
     "cell_type": "code",
     "collapsed": false,
     "input": [
      "from pyhacrf import StringPairFeatureExtractor"
     ],
     "language": "python",
     "metadata": {},
     "outputs": [],
     "prompt_number": 6
    },
    {
     "cell_type": "code",
     "collapsed": false,
     "input": [
      "fe = StringPairFeatureExtractor(start=True, end=True, match=True, numeric=True, transition=True)\n",
      "x_orig = fe.fit_transform(x_raw)"
     ],
     "language": "python",
     "metadata": {},
     "outputs": [],
     "prompt_number": 7
    },
    {
     "cell_type": "markdown",
     "metadata": {},
     "source": [
      "## Split off testing examples to evaluate classification"
     ]
    },
    {
     "cell_type": "code",
     "collapsed": false,
     "input": [
      "from sklearn.cross_validation import train_test_split\n",
      "x_train, x_test, y_train, y_test = train_test_split(x_orig, y_orig, test_size=0.2, random_state=42)\n",
      "print y_train[:10], y_test[:10]\n",
      "print len(y_train), len(x_train), len(y_test), len(x_test)"
     ],
     "language": "python",
     "metadata": {},
     "outputs": [
      {
       "output_type": "stream",
       "stream": "stdout",
       "text": [
        "[0, 0, 0, 0, 1, 1, 1, 1, 1, 0] [1, 1, 0, 1, 1, 1, 1, 1, 0, 1]\n",
        "4758 4758 1190 1190\n"
       ]
      }
     ],
     "prompt_number": 8
    },
    {
     "cell_type": "markdown",
     "metadata": {},
     "source": [
      "## Cross-validation to find regularization parameter"
     ]
    },
    {
     "cell_type": "code",
     "collapsed": false,
     "input": [
      "from pyhacrf import Hacrf\n",
      "from sklearn.metrics import accuracy_score\n",
      "m = Hacrf()\n",
      "m.get_params()\n",
      "m.fit(x_train[:20], y_train[:20])\n",
      "print accuracy_score(m.predict(x_train[:20]), y_train[:20])\n",
      "print m.predict(x_train[:20])"
     ],
     "language": "python",
     "metadata": {},
     "outputs": [
      {
       "output_type": "stream",
       "stream": "stdout",
       "text": [
        "1.0\n",
        "[0, 0, 0, 0, 1, 1, 1, 1, 1, 0, 1, 0, 0, 0, 1, 0, 0, 1, 0, 1]"
       ]
      },
      {
       "output_type": "stream",
       "stream": "stdout",
       "text": [
        "\n"
       ]
      }
     ],
     "prompt_number": 29
    },
    {
     "cell_type": "code",
     "collapsed": false,
     "input": [
      "len(y_train), y_train[0]"
     ],
     "language": "python",
     "metadata": {},
     "outputs": [
      {
       "metadata": {},
       "output_type": "pyout",
       "prompt_number": 11,
       "text": [
        "(4758, 0)"
       ]
      }
     ],
     "prompt_number": 11
    },
    {
     "cell_type": "code",
     "collapsed": false,
     "input": [
      "np.exp(3), np.exp(2), np.exp(5)"
     ],
     "language": "python",
     "metadata": {},
     "outputs": [
      {
       "metadata": {},
       "output_type": "pyout",
       "prompt_number": 36,
       "text": [
        "(20.085536923187668, 7.3890560989306504, 148.4131591025766)"
       ]
      }
     ],
     "prompt_number": 36
    },
    {
     "cell_type": "code",
     "collapsed": true,
     "input": [
      "from pyhacrf import Hacrf\n",
      "from sklearn.grid_search import GridSearchCV\n",
      "from sklearn.metrics import accuracy_score\n",
      "import numpy as np\n",
      "    \n",
      "models = []\n",
      "accs_train = []\n",
      "accs_val = []\n",
      "regs = []\n",
      "\n",
      "for n, i in enumerate(np.linspace(-12, 2, 10)):\n",
      "    print np.exp(i)\n",
      "    m = Hacrf(l2_regularization=np.exp(i), max_iterations=45)\n",
      "    \n",
      "    x_t, x_v, y_t, y_v = train_test_split(x_train, y_train, test_size=0.5, random_state=42 + n)\n",
      "    \n",
      "    m.fit(x_t, y_t, verbosity=5)\n",
      "    \n",
      "    train_score = accuracy_score(m.predict(x_t), y_t)\n",
      "    val_score = accuracy_score(m.predict(x_v), y_v)\n",
      "    print np.exp(i), train_score, val_score\n",
      "    \n",
      "    regs.append(np.exp(i))\n",
      "    models.append(m)\n",
      "    accs_train.append(train_score)\n",
      "    accs_val.append(val_score)"
     ],
     "language": "python",
     "metadata": {},
     "outputs": [
      {
       "output_type": "stream",
       "stream": "stdout",
       "text": [
        "6.14421235333e-06\n",
        "Iteration  Log-likelihood |gradient|"
       ]
      },
      {
       "output_type": "stream",
       "stream": "stdout",
       "text": [
        "\n",
        "         0 -1.649e+03  2.082e+04\n",
        "         5     -502.0  4.289e+03"
       ]
      },
      {
       "output_type": "stream",
       "stream": "stdout",
       "text": [
        "\n",
        "        10     -280.0  2.435e+03"
       ]
      },
      {
       "output_type": "stream",
       "stream": "stdout",
       "text": [
        "\n",
        "        15     -139.2  2.453e+03"
       ]
      },
      {
       "output_type": "stream",
       "stream": "stdout",
       "text": [
        "\n",
        "        20     -87.93      759.1"
       ]
      },
      {
       "output_type": "stream",
       "stream": "stdout",
       "text": [
        "\n",
        "        25     -51.25      484.7"
       ]
      },
      {
       "output_type": "stream",
       "stream": "stdout",
       "text": [
        "\n",
        "        30     -32.26      466.1"
       ]
      },
      {
       "output_type": "stream",
       "stream": "stdout",
       "text": [
        "\n",
        "        35     -7.058      137.4"
       ]
      },
      {
       "output_type": "stream",
       "stream": "stdout",
       "text": [
        "\n",
        "        40     -1.772      28.14"
       ]
      },
      {
       "output_type": "stream",
       "stream": "stdout",
       "text": [
        "\n",
        "        45    -0.1977      2.089"
       ]
      },
      {
       "output_type": "stream",
       "stream": "stdout",
       "text": [
        "\n",
        "6.14421235333e-06"
       ]
      },
      {
       "output_type": "stream",
       "stream": "stdout",
       "text": [
        " 1.0 0.957545187053\n",
        "2.91095445998e-05\n",
        "Iteration  Log-likelihood |gradient|"
       ]
      },
      {
       "output_type": "stream",
       "stream": "stdout",
       "text": [
        "\n",
        "         0 -1.649e+03  2.065e+04\n",
        "         5     -527.2   4.89e+03"
       ]
      },
      {
       "output_type": "stream",
       "stream": "stdout",
       "text": [
        "\n",
        "        10     -297.0  2.507e+03"
       ]
      },
      {
       "output_type": "stream",
       "stream": "stdout",
       "text": [
        "\n",
        "        15     -181.5  1.541e+03"
       ]
      },
      {
       "output_type": "stream",
       "stream": "stdout",
       "text": [
        "\n",
        "        20     -126.1  1.242e+03"
       ]
      },
      {
       "output_type": "stream",
       "stream": "stdout",
       "text": [
        "\n",
        "        25     -59.08      545.5"
       ]
      },
      {
       "output_type": "stream",
       "stream": "stdout",
       "text": [
        "\n",
        "        30     -18.52      268.0"
       ]
      },
      {
       "output_type": "stream",
       "stream": "stdout",
       "text": [
        "\n",
        "        35     -9.753      132.8"
       ]
      },
      {
       "output_type": "stream",
       "stream": "stdout",
       "text": [
        "\n",
        "        40     -3.189      32.48"
       ]
      },
      {
       "output_type": "stream",
       "stream": "stdout",
       "text": [
        "\n",
        "        45     -1.667      7.692"
       ]
      },
      {
       "output_type": "stream",
       "stream": "stdout",
       "text": [
        "\n",
        "2.91095445998e-05"
       ]
      },
      {
       "output_type": "stream",
       "stream": "stdout",
       "text": [
        " 0.999579655317 0.964691046658\n",
        "0.000137912809337\n",
        "Iteration  Log-likelihood |gradient|"
       ]
      },
      {
       "output_type": "stream",
       "stream": "stdout",
       "text": [
        "\n",
        "         0 -1.649e+03  2.089e+04\n",
        "         5     -476.6  4.444e+03"
       ]
      },
      {
       "output_type": "stream",
       "stream": "stdout",
       "text": [
        "\n",
        "        10     -250.2  1.967e+03"
       ]
      },
      {
       "output_type": "stream",
       "stream": "stdout",
       "text": [
        "\n",
        "        15     -166.2  1.553e+03"
       ]
      },
      {
       "output_type": "stream",
       "stream": "stdout",
       "text": [
        "\n",
        "        20     -101.4      841.0"
       ]
      },
      {
       "output_type": "stream",
       "stream": "stdout",
       "text": [
        "\n",
        "        25     -83.46  1.399e+03"
       ]
      },
      {
       "output_type": "stream",
       "stream": "stdout",
       "text": [
        "\n",
        "        30     -38.07      342.9"
       ]
      },
      {
       "output_type": "stream",
       "stream": "stdout",
       "text": [
        "\n",
        "        35     -16.44      130.4"
       ]
      },
      {
       "output_type": "stream",
       "stream": "stdout",
       "text": [
        "\n",
        "        40     -5.779      53.72"
       ]
      },
      {
       "output_type": "stream",
       "stream": "stdout",
       "text": [
        "\n",
        "        45     -3.125      9.575"
       ]
      },
      {
       "output_type": "stream",
       "stream": "stdout",
       "text": [
        "\n",
        "0.000137912809337"
       ]
      },
      {
       "output_type": "stream",
       "stream": "stdout",
       "text": [
        " 0.999579655317 0.957545187053\n",
        "0.000653391979867\n",
        "Iteration  Log-likelihood |gradient|"
       ]
      },
      {
       "output_type": "stream",
       "stream": "stdout",
       "text": [
        "\n",
        "         0 -1.649e+03  2.074e+04\n",
        "         5     -457.9  4.352e+03"
       ]
      },
      {
       "output_type": "stream",
       "stream": "stdout",
       "text": [
        "\n",
        "        10     -219.5  1.975e+03"
       ]
      },
      {
       "output_type": "stream",
       "stream": "stdout",
       "text": [
        "\n",
        "        15     -107.5  1.373e+03"
       ]
      },
      {
       "output_type": "stream",
       "stream": "stdout",
       "text": [
        "\n",
        "        20     -43.58      497.8"
       ]
      },
      {
       "output_type": "stream",
       "stream": "stdout",
       "text": [
        "\n",
        "        25     -16.94      224.3"
       ]
      },
      {
       "output_type": "stream",
       "stream": "stdout",
       "text": [
        "\n",
        "        30     -2.455      31.45"
       ]
      },
      {
       "output_type": "stream",
       "stream": "stdout",
       "text": [
        "\n",
        "        35     -1.497      11.16"
       ]
      },
      {
       "output_type": "stream",
       "stream": "stdout",
       "text": [
        "\n",
        "        40     -1.267      4.824"
       ]
      },
      {
       "output_type": "stream",
       "stream": "stdout",
       "text": [
        "\n",
        "        45     -1.116      4.244"
       ]
      },
      {
       "output_type": "stream",
       "stream": "stdout",
       "text": [
        "\n",
        "0.000653391979867"
       ]
      },
      {
       "output_type": "stream",
       "stream": "stdout",
       "text": [
        " 1.0 0.964270701976\n",
        "0.00309558685237\n",
        "Iteration  Log-likelihood |gradient|"
       ]
      },
      {
       "output_type": "stream",
       "stream": "stdout",
       "text": [
        "\n",
        "         0 -1.649e+03    2.1e+04\n",
        "         5     -464.9  4.266e+03"
       ]
      },
      {
       "output_type": "stream",
       "stream": "stdout",
       "text": [
        "\n",
        "        10     -245.1   1.88e+03"
       ]
      },
      {
       "output_type": "stream",
       "stream": "stdout",
       "text": [
        "\n",
        "        15     -136.1  1.167e+03"
       ]
      },
      {
       "output_type": "stream",
       "stream": "stdout",
       "text": [
        "\n",
        "        20      -87.5      574.8"
       ]
      },
      {
       "output_type": "stream",
       "stream": "stdout",
       "text": [
        "\n",
        "        25     -36.48      267.2"
       ]
      },
      {
       "output_type": "stream",
       "stream": "stdout",
       "text": [
        "\n",
        "        30     -85.08   2.46e+03"
       ]
      },
      {
       "output_type": "stream",
       "stream": "stdout",
       "text": [
        "\n",
        "        35      -12.5      69.78"
       ]
      },
      {
       "output_type": "stream",
       "stream": "stdout",
       "text": [
        "\n",
        "        40     -8.988      54.88"
       ]
      },
      {
       "output_type": "stream",
       "stream": "stdout",
       "text": [
        "\n",
        "        45     -7.951      60.78"
       ]
      },
      {
       "output_type": "stream",
       "stream": "stdout",
       "text": [
        "\n",
        "0.00309558685237"
       ]
      },
      {
       "output_type": "stream",
       "stream": "stdout",
       "text": [
        " 0.999579655317 0.957545187053\n",
        "0.0146660171165\n",
        "Iteration  Log-likelihood |gradient|"
       ]
      },
      {
       "output_type": "stream",
       "stream": "stdout",
       "text": [
        "\n",
        "         0 -1.649e+03  2.097e+04\n",
        "         5     -443.2  4.988e+03"
       ]
      },
      {
       "output_type": "stream",
       "stream": "stdout",
       "text": [
        "\n",
        "        10     -250.4  2.018e+03"
       ]
      },
      {
       "output_type": "stream",
       "stream": "stdout",
       "text": [
        "\n",
        "        15     -136.0  1.347e+03"
       ]
      },
      {
       "output_type": "stream",
       "stream": "stdout",
       "text": [
        "\n",
        "        20      -89.5      822.8"
       ]
      },
      {
       "output_type": "stream",
       "stream": "stdout",
       "text": [
        "\n",
        "        25     -57.68      462.5"
       ]
      },
      {
       "output_type": "stream",
       "stream": "stdout",
       "text": [
        "\n",
        "        30     -46.03      443.9"
       ]
      },
      {
       "output_type": "stream",
       "stream": "stdout",
       "text": [
        "\n",
        "        35     -29.47      305.4"
       ]
      },
      {
       "output_type": "stream",
       "stream": "stdout",
       "text": [
        "\n",
        "        40     -20.81      143.0"
       ]
      },
      {
       "output_type": "stream",
       "stream": "stdout",
       "text": [
        "\n",
        "        45     -19.08      98.64"
       ]
      },
      {
       "output_type": "stream",
       "stream": "stdout",
       "text": [
        "\n",
        "0.0146660171165"
       ]
      },
      {
       "output_type": "stream",
       "stream": "stdout",
       "text": [
        " 0.999579655317 0.958385876419\n",
        "0.0694834512228\n",
        "Iteration  Log-likelihood |gradient|"
       ]
      },
      {
       "output_type": "stream",
       "stream": "stdout",
       "text": [
        "\n",
        "         0 -1.649e+03  2.068e+04\n",
        "         5     -487.4  4.287e+03"
       ]
      },
      {
       "output_type": "stream",
       "stream": "stdout",
       "text": [
        "\n",
        "        10     -246.9  2.047e+03"
       ]
      },
      {
       "output_type": "stream",
       "stream": "stdout",
       "text": [
        "\n",
        "        15     -148.6      998.1"
       ]
      },
      {
       "output_type": "stream",
       "stream": "stdout",
       "text": [
        "\n",
        "        20     -117.3      676.3"
       ]
      },
      {
       "output_type": "stream",
       "stream": "stdout",
       "text": [
        "\n",
        "        25     -86.71      612.9"
       ]
      },
      {
       "output_type": "stream",
       "stream": "stdout",
       "text": [
        "\n",
        "        30     -70.67      517.2"
       ]
      },
      {
       "output_type": "stream",
       "stream": "stdout",
       "text": [
        "\n",
        "        35     -60.63      286.0"
       ]
      },
      {
       "output_type": "stream",
       "stream": "stdout",
       "text": [
        "\n",
        "        40     -79.92      971.2"
       ]
      },
      {
       "output_type": "stream",
       "stream": "stdout",
       "text": [
        "\n",
        "        45     -46.32      149.0"
       ]
      },
      {
       "output_type": "stream",
       "stream": "stdout",
       "text": [
        "\n",
        "0.0694834512228"
       ]
      },
      {
       "output_type": "stream",
       "stream": "stdout",
       "text": [
        " 0.997898276587 0.963009667928\n",
        "0.329192987808\n",
        "Iteration  Log-likelihood |gradient|"
       ]
      },
      {
       "output_type": "stream",
       "stream": "stdout",
       "text": [
        "\n",
        "         0 -1.649e+03  2.066e+04\n",
        "         5     -505.6  4.547e+03"
       ]
      },
      {
       "output_type": "stream",
       "stream": "stdout",
       "text": [
        "\n",
        "        10     -284.4  2.313e+03"
       ]
      },
      {
       "output_type": "stream",
       "stream": "stdout",
       "text": [
        "\n",
        "        15     -202.5  1.472e+03"
       ]
      },
      {
       "output_type": "stream",
       "stream": "stdout",
       "text": [
        "\n",
        "        20     -134.0      768.7"
       ]
      },
      {
       "output_type": "stream",
       "stream": "stdout",
       "text": [
        "\n",
        "        25     -110.2      509.3"
       ]
      },
      {
       "output_type": "stream",
       "stream": "stdout",
       "text": [
        "\n",
        "        30     -95.44      325.9"
       ]
      },
      {
       "output_type": "stream",
       "stream": "stdout",
       "text": [
        "\n",
        "        35      -90.4      298.9"
       ]
      },
      {
       "output_type": "stream",
       "stream": "stdout",
       "text": [
        "\n",
        "        40     -85.35      617.8"
       ]
      },
      {
       "output_type": "stream",
       "stream": "stdout",
       "text": [
        "\n",
        "        45     -82.34      185.8"
       ]
      },
      {
       "output_type": "stream",
       "stream": "stdout",
       "text": [
        "\n",
        "0.329192987808"
       ]
      },
      {
       "output_type": "stream",
       "stream": "stdout",
       "text": [
        " 0.997057587222 0.96973518285\n",
        "1.55962349761\n",
        "Iteration  Log-likelihood |gradient|"
       ]
      },
      {
       "output_type": "stream",
       "stream": "stdout",
       "text": [
        "\n",
        "         0 -1.649e+03  2.121e+04\n",
        "         5     -450.3  4.627e+03"
       ]
      },
      {
       "output_type": "stream",
       "stream": "stdout",
       "text": [
        "\n",
        "        10     -232.7  2.487e+03"
       ]
      },
      {
       "output_type": "stream",
       "stream": "stdout",
       "text": [
        "\n",
        "        15     -183.2  1.151e+03"
       ]
      },
      {
       "output_type": "stream",
       "stream": "stdout",
       "text": [
        "\n",
        "        20     -165.0      526.2"
       ]
      },
      {
       "output_type": "stream",
       "stream": "stdout",
       "text": [
        "\n",
        "        25     -823.8  2.324e+04"
       ]
      },
      {
       "output_type": "stream",
       "stream": "stdout",
       "text": [
        "\n",
        "        30     -155.1      381.0"
       ]
      },
      {
       "output_type": "stream",
       "stream": "stdout",
       "text": [
        "\n",
        "        35     -150.8      376.6"
       ]
      },
      {
       "output_type": "stream",
       "stream": "stdout",
       "text": [
        "\n",
        "        40     -146.1      288.4"
       ]
      },
      {
       "output_type": "stream",
       "stream": "stdout",
       "text": [
        "\n",
        "        45     -143.5      332.0"
       ]
      },
      {
       "output_type": "stream",
       "stream": "stdout",
       "text": [
        "\n",
        "1.55962349761"
       ]
      },
      {
       "output_type": "stream",
       "stream": "stdout",
       "text": [
        " 0.994955863808 0.964270701976\n",
        "7.38905609893\n",
        "Iteration  Log-likelihood |gradient|"
       ]
      },
      {
       "output_type": "stream",
       "stream": "stdout",
       "text": [
        "\n",
        "         0 -1.649e+03  2.013e+04\n",
        "         5     -560.3  4.747e+03"
       ]
      },
      {
       "output_type": "stream",
       "stream": "stdout",
       "text": [
        "\n",
        "        10     -375.5  1.968e+03"
       ]
      },
      {
       "output_type": "stream",
       "stream": "stdout",
       "text": [
        "\n",
        "        15     -334.3  1.214e+03"
       ]
      },
      {
       "output_type": "stream",
       "stream": "stdout",
       "text": [
        "\n",
        "        20     -322.4      557.4"
       ]
      },
      {
       "output_type": "stream",
       "stream": "stdout",
       "text": [
        "\n",
        "        25     -315.7      949.2"
       ]
      },
      {
       "output_type": "stream",
       "stream": "stdout",
       "text": [
        "\n",
        "        30     -304.5  1.361e+03"
       ]
      },
      {
       "output_type": "stream",
       "stream": "stdout",
       "text": [
        "\n",
        "        35     -295.1      808.1"
       ]
      },
      {
       "output_type": "stream",
       "stream": "stdout",
       "text": [
        "\n",
        "        40     -286.5      467.8"
       ]
      },
      {
       "output_type": "stream",
       "stream": "stdout",
       "text": [
        "\n",
        "        45     -284.0      260.3"
       ]
      },
      {
       "output_type": "stream",
       "stream": "stdout",
       "text": [
        "\n",
        "7.38905609893"
       ]
      },
      {
       "output_type": "stream",
       "stream": "stdout",
       "text": [
        " 0.981504833964 0.968053804119\n"
       ]
      }
     ],
     "prompt_number": 39
    },
    {
     "cell_type": "code",
     "collapsed": false,
     "input": [
      "plt.scatter([np.log(i) for i in regs], [acc for acc in accs_val])\n",
      "plt.scatter([np.log(i) for i in regs], [acc for acc in accs_train], c='r')"
     ],
     "language": "python",
     "metadata": {},
     "outputs": [
      {
       "metadata": {},
       "output_type": "pyout",
       "prompt_number": 46,
       "text": [
        "<matplotlib.collections.PathCollection at 0x27fb20350>"
       ]
      },
      {
       "metadata": {},
       "output_type": "display_data",
       "png": "[encoded data removed]",
       "text": [
        "<matplotlib.figure.Figure at 0x27a90ff90>"
       ]
      }
     ],
     "prompt_number": 46
    },
    {
     "cell_type": "code",
     "collapsed": true,
     "input": [
      "from pyhacrf import Hacrf\n",
      "from sklearn.grid_search import GridSearchCV\n",
      "from sklearn.metrics import accuracy_score\n",
      "import numpy as np\n",
      "    \n",
      "models = []\n",
      "accs_train = []\n",
      "accs_val = []\n",
      "regs = []\n",
      "\n",
      "for n, i in enumerate(np.linspace(-8, 4, 15)):\n",
      "    print np.exp(i)\n",
      "    m = Hacrf(l2_regularization=np.exp(i), max_iterations=45)\n",
      "    \n",
      "    x_t, x_v, y_t, y_v = train_test_split(x_train, y_train, test_size=0.5, random_state=42 + n)\n",
      "    \n",
      "    m.fit(x_t, y_t, verbosity=5)\n",
      "    \n",
      "    train_score = accuracy_score(m.predict(x_t), y_t)\n",
      "    val_score = accuracy_score(m.predict(x_v), y_v)\n",
      "    print np.exp(i), train_score, val_score\n",
      "    \n",
      "    regs.append(np.exp(i))\n",
      "    models.append(m)\n",
      "    accs_train.append(train_score)\n",
      "    accs_val.append(val_score)"
     ],
     "language": "python",
     "metadata": {},
     "outputs": [
      {
       "output_type": "stream",
       "stream": "stdout",
       "text": [
        "0.000335462627903\n",
        "Iteration  Log-likelihood |gradient|"
       ]
      },
      {
       "output_type": "stream",
       "stream": "stdout",
       "text": [
        "\n",
        "         0 -1.649e+03  2.082e+04\n",
        "         5     -502.0  4.289e+03"
       ]
      },
      {
       "output_type": "stream",
       "stream": "stdout",
       "text": [
        "\n",
        "        10     -280.0  2.435e+03"
       ]
      },
      {
       "output_type": "stream",
       "stream": "stdout",
       "text": [
        "\n",
        "        15     -139.2  2.453e+03"
       ]
      },
      {
       "output_type": "stream",
       "stream": "stdout",
       "text": [
        "\n",
        "        20     -88.01      759.2"
       ]
      },
      {
       "output_type": "stream",
       "stream": "stdout",
       "text": [
        "\n",
        "        25     -51.43      483.9"
       ]
      },
      {
       "output_type": "stream",
       "stream": "stdout",
       "text": [
        "\n",
        "        30     -32.57      466.6"
       ]
      },
      {
       "output_type": "stream",
       "stream": "stdout",
       "text": [
        "\n",
        "        35     -7.906      138.1"
       ]
      },
      {
       "output_type": "stream",
       "stream": "stdout",
       "text": [
        "\n",
        "        40      -3.25      30.06"
       ]
      },
      {
       "output_type": "stream",
       "stream": "stdout",
       "text": [
        "\n",
        "        45     -1.732      11.13"
       ]
      },
      {
       "output_type": "stream",
       "stream": "stdout",
       "text": [
        "\n",
        "0.000335462627903"
       ]
      },
      {
       "output_type": "stream",
       "stream": "stdout",
       "text": [
        " 1.0 0.960907944515\n",
        "0.00079049032312\n",
        "Iteration  Log-likelihood |gradient|"
       ]
      },
      {
       "output_type": "stream",
       "stream": "stdout",
       "text": [
        "\n",
        "         0 -1.649e+03  2.065e+04\n",
        "         5     -527.2   4.89e+03"
       ]
      },
      {
       "output_type": "stream",
       "stream": "stdout",
       "text": [
        "\n",
        "        10     -297.0  2.507e+03"
       ]
      },
      {
       "output_type": "stream",
       "stream": "stdout",
       "text": [
        "\n",
        "        15     -181.6  1.541e+03"
       ]
      },
      {
       "output_type": "stream",
       "stream": "stdout",
       "text": [
        "\n",
        "        20     -126.2  1.242e+03"
       ]
      },
      {
       "output_type": "stream",
       "stream": "stdout",
       "text": [
        "\n",
        "        25     -59.31      545.2"
       ]
      },
      {
       "output_type": "stream",
       "stream": "stdout",
       "text": [
        "\n",
        "        30     -19.22      271.3"
       ]
      },
      {
       "output_type": "stream",
       "stream": "stdout",
       "text": [
        "\n",
        "        35     -10.46      129.6"
       ]
      },
      {
       "output_type": "stream",
       "stream": "stdout",
       "text": [
        "\n",
        "        40     -4.635      38.55"
       ]
      },
      {
       "output_type": "stream",
       "stream": "stdout",
       "text": [
        "\n",
        "        45     -3.842      13.71"
       ]
      },
      {
       "output_type": "stream",
       "stream": "stdout",
       "text": [
        "\n",
        "0.00079049032312"
       ]
      },
      {
       "output_type": "stream",
       "stream": "stdout",
       "text": [
        " 0.999579655317 0.966792770071\n",
        "0.00186272597593\n",
        "Iteration  Log-likelihood |gradient|"
       ]
      },
      {
       "output_type": "stream",
       "stream": "stdout",
       "text": [
        "\n",
        "         0 -1.649e+03  2.089e+04\n",
        "         5     -476.6  4.444e+03"
       ]
      },
      {
       "output_type": "stream",
       "stream": "stdout",
       "text": [
        "\n",
        "        10     -250.2  1.967e+03"
       ]
      },
      {
       "output_type": "stream",
       "stream": "stdout",
       "text": [
        "\n",
        "        15     -166.3  1.553e+03"
       ]
      },
      {
       "output_type": "stream",
       "stream": "stdout",
       "text": [
        "\n",
        "        20     -101.7      840.2"
       ]
      },
      {
       "output_type": "stream",
       "stream": "stdout",
       "text": [
        "\n",
        "        25     -83.82  1.406e+03"
       ]
      },
      {
       "output_type": "stream",
       "stream": "stdout",
       "text": [
        "\n",
        "        30     -39.02      344.4"
       ]
      },
      {
       "output_type": "stream",
       "stream": "stdout",
       "text": [
        "\n",
        "        35     -18.36      128.6"
       ]
      },
      {
       "output_type": "stream",
       "stream": "stdout",
       "text": [
        "\n",
        "        40     -10.15      81.14"
       ]
      },
      {
       "output_type": "stream",
       "stream": "stdout",
       "text": [
        "\n",
        "        45     -7.969      35.68"
       ]
      },
      {
       "output_type": "stream",
       "stream": "stdout",
       "text": [
        "\n",
        "0.00186272597593"
       ]
      },
      {
       "output_type": "stream",
       "stream": "stdout",
       "text": [
        " 0.999579655317 0.958385876419\n",
        "0.00438936184278\n",
        "Iteration  Log-likelihood |gradient|"
       ]
      },
      {
       "output_type": "stream",
       "stream": "stdout",
       "text": [
        "\n",
        "         0 -1.649e+03  2.074e+04\n",
        "         5     -458.0  4.352e+03"
       ]
      },
      {
       "output_type": "stream",
       "stream": "stdout",
       "text": [
        "\n",
        "        10     -219.6  1.975e+03"
       ]
      },
      {
       "output_type": "stream",
       "stream": "stdout",
       "text": [
        "\n",
        "        15     -107.8  1.373e+03"
       ]
      },
      {
       "output_type": "stream",
       "stream": "stdout",
       "text": [
        "\n",
        "        20     -44.62      500.7"
       ]
      },
      {
       "output_type": "stream",
       "stream": "stdout",
       "text": [
        "\n",
        "        25      -19.1      234.8"
       ]
      },
      {
       "output_type": "stream",
       "stream": "stdout",
       "text": [
        "\n",
        "        30      -6.33      32.05"
       ]
      },
      {
       "output_type": "stream",
       "stream": "stdout",
       "text": [
        "\n",
        "        35     -4.992      19.48"
       ]
      },
      {
       "output_type": "stream",
       "stream": "stdout",
       "text": [
        "\n",
        "        40     -4.399       15.5"
       ]
      },
      {
       "output_type": "stream",
       "stream": "stdout",
       "text": [
        "\n",
        "        45     -3.811       9.82"
       ]
      },
      {
       "output_type": "stream",
       "stream": "stdout",
       "text": [
        "\n",
        "0.00438936184278"
       ]
      },
      {
       "output_type": "stream",
       "stream": "stdout",
       "text": [
        " 1.0 0.963009667928\n",
        "0.0103431731966\n",
        "Iteration  Log-likelihood |gradient|"
       ]
      },
      {
       "output_type": "stream",
       "stream": "stdout",
       "text": [
        "\n",
        "         0 -1.649e+03    2.1e+04\n",
        "         5     -465.0  4.265e+03"
       ]
      },
      {
       "output_type": "stream",
       "stream": "stdout",
       "text": [
        "\n",
        "        10     -245.2   1.88e+03"
       ]
      },
      {
       "output_type": "stream",
       "stream": "stdout",
       "text": [
        "\n",
        "        15     -136.7  1.169e+03"
       ]
      },
      {
       "output_type": "stream",
       "stream": "stdout",
       "text": [
        "\n",
        "        20     -87.68      563.1"
       ]
      },
      {
       "output_type": "stream",
       "stream": "stdout",
       "text": [
        "\n",
        "        25     -42.11      300.7"
       ]
      },
      {
       "output_type": "stream",
       "stream": "stdout",
       "text": [
        "\n",
        "        30     -25.95      177.6"
       ]
      },
      {
       "output_type": "stream",
       "stream": "stdout",
       "text": [
        "\n",
        "        35     -18.32       82.1"
       ]
      },
      {
       "output_type": "stream",
       "stream": "stdout",
       "text": [
        "\n",
        "        40     -15.43       50.5"
       ]
      },
      {
       "output_type": "stream",
       "stream": "stdout",
       "text": [
        "\n",
        "        45      -16.8      264.8"
       ]
      },
      {
       "output_type": "stream",
       "stream": "stdout",
       "text": [
        "\n",
        "0.0103431731966"
       ]
      },
      {
       "output_type": "stream",
       "stream": "stdout",
       "text": [
        " 0.999579655317 0.956704497688\n",
        "0.0243728440733\n",
        "Iteration  Log-likelihood |gradient|"
       ]
      },
      {
       "output_type": "stream",
       "stream": "stdout",
       "text": [
        "\n",
        "         0 -1.649e+03  2.097e+04\n",
        "         5     -443.3   4.99e+03"
       ]
      },
      {
       "output_type": "stream",
       "stream": "stdout",
       "text": [
        "\n",
        "        10     -250.4  2.019e+03"
       ]
      },
      {
       "output_type": "stream",
       "stream": "stdout",
       "text": [
        "\n",
        "        15     -138.7  1.409e+03"
       ]
      },
      {
       "output_type": "stream",
       "stream": "stdout",
       "text": [
        "\n",
        "        20     -133.4  1.503e+03"
       ]
      },
      {
       "output_type": "stream",
       "stream": "stdout",
       "text": [
        "\n",
        "        25     -57.91      517.9"
       ]
      },
      {
       "output_type": "stream",
       "stream": "stdout",
       "text": [
        "\n",
        "        30      -36.9      302.7"
       ]
      },
      {
       "output_type": "stream",
       "stream": "stdout",
       "text": [
        "\n",
        "        35     -25.12      90.08"
       ]
      },
      {
       "output_type": "stream",
       "stream": "stdout",
       "text": [
        "\n",
        "        40     -22.96      81.34"
       ]
      },
      {
       "output_type": "stream",
       "stream": "stdout",
       "text": [
        "\n",
        "        45     -21.56      71.34"
       ]
      },
      {
       "output_type": "stream",
       "stream": "stdout",
       "text": [
        "\n",
        "0.0243728440733"
       ]
      },
      {
       "output_type": "stream",
       "stream": "stdout",
       "text": [
        " 0.999579655317 0.959226565784\n",
        "0.0574326192676\n",
        "Iteration  Log-likelihood |gradient|"
       ]
      },
      {
       "output_type": "stream",
       "stream": "stdout",
       "text": [
        "\n",
        "         0 -1.649e+03  2.068e+04\n",
        "         5     -487.4  4.287e+03"
       ]
      },
      {
       "output_type": "stream",
       "stream": "stdout",
       "text": [
        "\n",
        "        10     -246.7  2.049e+03"
       ]
      },
      {
       "output_type": "stream",
       "stream": "stdout",
       "text": [
        "\n",
        "        15     -147.7  1.001e+03"
       ]
      },
      {
       "output_type": "stream",
       "stream": "stdout",
       "text": [
        "\n",
        "        20     -115.5      672.3"
       ]
      },
      {
       "output_type": "stream",
       "stream": "stdout",
       "text": [
        "\n",
        "        25     -82.98      577.9"
       ]
      },
      {
       "output_type": "stream",
       "stream": "stdout",
       "text": [
        "\n",
        "        30     -63.91      345.0"
       ]
      },
      {
       "output_type": "stream",
       "stream": "stdout",
       "text": [
        "\n",
        "        35     -55.17      265.4"
       ]
      },
      {
       "output_type": "stream",
       "stream": "stdout",
       "text": [
        "\n",
        "        40     -44.46      161.2"
       ]
      },
      {
       "output_type": "stream",
       "stream": "stdout",
       "text": [
        "\n",
        "        45     -39.25      107.6"
       ]
      },
      {
       "output_type": "stream",
       "stream": "stdout",
       "text": [
        "\n",
        "0.0574326192676"
       ]
      },
      {
       "output_type": "stream",
       "stream": "stdout",
       "text": [
        " 0.998738965952 0.964270701976\n",
        "0.135335283237\n",
        "Iteration  Log-likelihood |gradient|"
       ]
      },
      {
       "output_type": "stream",
       "stream": "stdout",
       "text": [
        "\n",
        "         0 -1.649e+03  2.066e+04\n",
        "         5     -504.9   4.55e+03"
       ]
      },
      {
       "output_type": "stream",
       "stream": "stdout",
       "text": [
        "\n",
        "        10     -280.6  2.319e+03"
       ]
      },
      {
       "output_type": "stream",
       "stream": "stdout",
       "text": [
        "\n",
        "        15     -195.3  1.515e+03"
       ]
      },
      {
       "output_type": "stream",
       "stream": "stdout",
       "text": [
        "\n",
        "        20     -116.3      706.4"
       ]
      },
      {
       "output_type": "stream",
       "stream": "stdout",
       "text": [
        "\n",
        "        25     -89.85      623.1"
       ]
      },
      {
       "output_type": "stream",
       "stream": "stdout",
       "text": [
        "\n",
        "        30      -70.5      416.7"
       ]
      },
      {
       "output_type": "stream",
       "stream": "stdout",
       "text": [
        "\n",
        "        35     -62.93      229.4"
       ]
      },
      {
       "output_type": "stream",
       "stream": "stdout",
       "text": [
        "\n",
        "        40      -59.1      202.9"
       ]
      },
      {
       "output_type": "stream",
       "stream": "stdout",
       "text": [
        "\n",
        "        45     -54.88      162.8"
       ]
      },
      {
       "output_type": "stream",
       "stream": "stdout",
       "text": [
        "\n",
        "0.135335283237"
       ]
      },
      {
       "output_type": "stream",
       "stream": "stdout",
       "text": [
        " 0.998738965952 0.970575872215\n",
        "0.318906557324\n",
        "Iteration  Log-likelihood |gradient|"
       ]
      },
      {
       "output_type": "stream",
       "stream": "stdout",
       "text": [
        "\n",
        "         0 -1.649e+03  2.121e+04\n",
        "         5     -445.2  4.642e+03"
       ]
      },
      {
       "output_type": "stream",
       "stream": "stdout",
       "text": [
        "\n",
        "        10     -189.0  2.135e+03"
       ]
      },
      {
       "output_type": "stream",
       "stream": "stdout",
       "text": [
        "\n",
        "        15     -141.4  1.238e+03"
       ]
      },
      {
       "output_type": "stream",
       "stream": "stdout",
       "text": [
        "\n",
        "        20     -95.77      479.2"
       ]
      },
      {
       "output_type": "stream",
       "stream": "stdout",
       "text": [
        "\n",
        "        25     -82.66      374.4"
       ]
      },
      {
       "output_type": "stream",
       "stream": "stdout",
       "text": [
        "\n",
        "        30     -76.86      269.3"
       ]
      },
      {
       "output_type": "stream",
       "stream": "stdout",
       "text": [
        "\n",
        "        35     -72.41      218.7"
       ]
      },
      {
       "output_type": "stream",
       "stream": "stdout",
       "text": [
        "\n",
        "        40     -70.47      165.0"
       ]
      },
      {
       "output_type": "stream",
       "stream": "stdout",
       "text": [
        "\n",
        "        45     -68.53      178.2"
       ]
      },
      {
       "output_type": "stream",
       "stream": "stdout",
       "text": [
        "\n",
        "0.318906557324"
       ]
      },
      {
       "output_type": "stream",
       "stream": "stdout",
       "text": [
        " 0.999159310635 0.965531736024\n",
        "0.751477293075\n",
        "Iteration  Log-likelihood |gradient|"
       ]
      },
      {
       "output_type": "stream",
       "stream": "stdout",
       "text": [
        "\n",
        "         0 -1.649e+03  2.013e+04\n",
        "         5     -541.1  4.832e+03"
       ]
      },
      {
       "output_type": "stream",
       "stream": "stdout",
       "text": [
        "\n",
        "        10     -298.1  2.092e+03"
       ]
      },
      {
       "output_type": "stream",
       "stream": "stdout",
       "text": [
        "\n",
        "        15     -201.5  1.236e+03"
       ]
      },
      {
       "output_type": "stream",
       "stream": "stdout",
       "text": [
        "\n",
        "        20     -166.3      831.7"
       ]
      },
      {
       "output_type": "stream",
       "stream": "stdout",
       "text": [
        "\n",
        "        25     -149.5      818.8"
       ]
      },
      {
       "output_type": "stream",
       "stream": "stdout",
       "text": [
        "\n",
        "        30     -135.7      485.5"
       ]
      },
      {
       "output_type": "stream",
       "stream": "stdout",
       "text": [
        "\n",
        "        35     -128.5      575.9"
       ]
      },
      {
       "output_type": "stream",
       "stream": "stdout",
       "text": [
        "\n",
        "        40     -123.2      487.8"
       ]
      },
      {
       "output_type": "stream",
       "stream": "stdout",
       "text": [
        "\n",
        "        45     -116.6      371.0"
       ]
      },
      {
       "output_type": "stream",
       "stream": "stdout",
       "text": [
        "\n",
        "0.751477293075"
       ]
      },
      {
       "output_type": "stream",
       "stream": "stdout",
       "text": [
        " 0.998318621269 0.967633459437\n",
        "1.77079495244\n",
        "Iteration  Log-likelihood |gradient|"
       ]
      },
      {
       "output_type": "stream",
       "stream": "stdout",
       "text": [
        "\n",
        "         0 -1.649e+03  2.128e+04\n",
        "         5     -529.2    5.8e+03"
       ]
      },
      {
       "output_type": "stream",
       "stream": "stdout",
       "text": [
        "\n",
        "        10     -299.4  2.185e+03"
       ]
      },
      {
       "output_type": "stream",
       "stream": "stdout",
       "text": [
        "\n",
        "        15     -219.1  1.032e+03"
       ]
      },
      {
       "output_type": "stream",
       "stream": "stdout",
       "text": [
        "\n",
        "        20     -196.1      609.8"
       ]
      },
      {
       "output_type": "stream",
       "stream": "stdout",
       "text": [
        "\n",
        "        25     -186.1      665.8"
       ]
      },
      {
       "output_type": "stream",
       "stream": "stdout",
       "text": [
        "\n",
        "        30     -173.0      450.3"
       ]
      },
      {
       "output_type": "stream",
       "stream": "stdout",
       "text": [
        "\n",
        "        35     -166.4      372.0"
       ]
      },
      {
       "output_type": "stream",
       "stream": "stdout",
       "text": [
        "\n",
        "        40     -163.3      308.1"
       ]
      },
      {
       "output_type": "stream",
       "stream": "stdout",
       "text": [
        "\n",
        "        45     -161.0      237.6"
       ]
      },
      {
       "output_type": "stream",
       "stream": "stdout",
       "text": [
        "\n",
        "1.77079495244"
       ]
      },
      {
       "output_type": "stream",
       "stream": "stdout",
       "text": [
        " 0.993274485078 0.96973518285\n",
        "4.1727338836\n",
        "Iteration  Log-likelihood |gradient|"
       ]
      },
      {
       "output_type": "stream",
       "stream": "stdout",
       "text": [
        "\n",
        "         0 -1.649e+03  2.054e+04\n",
        "         5     -537.0  4.589e+03"
       ]
      },
      {
       "output_type": "stream",
       "stream": "stdout",
       "text": [
        "\n",
        "        10     -357.3  2.446e+03"
       ]
      },
      {
       "output_type": "stream",
       "stream": "stdout",
       "text": [
        "\n",
        "        15     -292.2  1.098e+03"
       ]
      },
      {
       "output_type": "stream",
       "stream": "stdout",
       "text": [
        "\n",
        "        20     -278.6      730.5"
       ]
      },
      {
       "output_type": "stream",
       "stream": "stdout",
       "text": [
        "\n",
        "        25     -269.8      537.3"
       ]
      },
      {
       "output_type": "stream",
       "stream": "stdout",
       "text": [
        "\n",
        "        30     -266.8      620.7"
       ]
      },
      {
       "output_type": "stream",
       "stream": "stdout",
       "text": [
        "\n",
        "        35     -261.9      562.8"
       ]
      },
      {
       "output_type": "stream",
       "stream": "stdout",
       "text": [
        "\n",
        "        40     -258.5      287.4"
       ]
      },
      {
       "output_type": "stream",
       "stream": "stdout",
       "text": [
        "\n",
        "        45     -257.0      206.8"
       ]
      },
      {
       "output_type": "stream",
       "stream": "stdout",
       "text": [
        "\n",
        "4.1727338836"
       ]
      },
      {
       "output_type": "stream",
       "stream": "stdout",
       "text": [
        " 0.983606557377 0.970996216898\n",
        "9.83270707847\n",
        "Iteration  Log-likelihood |gradient|"
       ]
      },
      {
       "output_type": "stream",
       "stream": "stdout",
       "text": [
        "\n",
        "         0 -1.649e+03  2.092e+04\n",
        "         5     -550.1    4.4e+03"
       ]
      },
      {
       "output_type": "stream",
       "stream": "stdout",
       "text": [
        "\n",
        "        10     -382.7  1.915e+03"
       ]
      },
      {
       "output_type": "stream",
       "stream": "stdout",
       "text": [
        "\n",
        "        15     -362.1   1.22e+03"
       ]
      },
      {
       "output_type": "stream",
       "stream": "stdout",
       "text": [
        "\n",
        "        20     -356.4  1.096e+03"
       ]
      },
      {
       "output_type": "stream",
       "stream": "stdout",
       "text": [
        "\n",
        "        25     -352.9      336.7"
       ]
      },
      {
       "output_type": "stream",
       "stream": "stdout",
       "text": [
        "\n",
        "        30     -352.2      252.7"
       ]
      },
      {
       "output_type": "stream",
       "stream": "stdout",
       "text": [
        "\n",
        "        35     -351.5      200.3"
       ]
      },
      {
       "output_type": "stream",
       "stream": "stdout",
       "text": [
        "\n",
        "        40     -350.9      321.1"
       ]
      },
      {
       "output_type": "stream",
       "stream": "stdout",
       "text": [
        "\n",
        "        45     -348.6      692.0"
       ]
      },
      {
       "output_type": "stream",
       "stream": "stdout",
       "text": [
        "\n",
        "9.83270707847"
       ]
      },
      {
       "output_type": "stream",
       "stream": "stdout",
       "text": [
        " 0.970155527533 0.965952080706\n",
        "23.1699722983\n",
        "Iteration  Log-likelihood |gradient|"
       ]
      },
      {
       "output_type": "stream",
       "stream": "stdout",
       "text": [
        "\n",
        "         0 -1.649e+03  2.238e+04\n",
        "         5     -518.3  4.438e+03"
       ]
      },
      {
       "output_type": "stream",
       "stream": "stdout",
       "text": [
        "\n",
        "        10     -420.7  1.211e+03"
       ]
      },
      {
       "output_type": "stream",
       "stream": "stdout",
       "text": [
        "\n",
        "        15     -404.9      285.8"
       ]
      },
      {
       "output_type": "stream",
       "stream": "stdout",
       "text": [
        "\n",
        "        20     -403.8      169.6"
       ]
      },
      {
       "output_type": "stream",
       "stream": "stdout",
       "text": [
        "\n",
        "        25     -403.4      100.8"
       ]
      },
      {
       "output_type": "stream",
       "stream": "stdout",
       "text": [
        "\n",
        "        30     -403.0      611.5"
       ]
      },
      {
       "output_type": "stream",
       "stream": "stdout",
       "text": [
        "\n",
        "        35     -401.0      677.6"
       ]
      },
      {
       "output_type": "stream",
       "stream": "stdout",
       "text": [
        "\n",
        "        40     -398.8      461.7"
       ]
      },
      {
       "output_type": "stream",
       "stream": "stdout",
       "text": [
        "\n",
        "        45     -397.0      334.7"
       ]
      },
      {
       "output_type": "stream",
       "stream": "stdout",
       "text": [
        "\n",
        "23.1699722983"
       ]
      },
      {
       "output_type": "stream",
       "stream": "stdout",
       "text": [
        " 0.973097940311 0.950819672131\n",
        "54.5981500331\n",
        "Iteration  Log-likelihood |gradient|"
       ]
      },
      {
       "output_type": "stream",
       "stream": "stdout",
       "text": [
        "\n",
        "         0 -1.649e+03   2.11e+04\n",
        "         5     -637.6  5.124e+03"
       ]
      },
      {
       "output_type": "stream",
       "stream": "stdout",
       "text": [
        "\n",
        "        10     -575.1      473.8"
       ]
      },
      {
       "output_type": "stream",
       "stream": "stdout",
       "text": [
        "\n",
        "        15     -573.7      113.4"
       ]
      },
      {
       "output_type": "stream",
       "stream": "stdout",
       "text": [
        "\n",
        "        20     -573.7      31.92"
       ]
      },
      {
       "output_type": "stream",
       "stream": "stdout",
       "text": [
        "\n",
        "        25     -573.7      30.32"
       ]
      },
      {
       "output_type": "stream",
       "stream": "stdout",
       "text": [
        "\n",
        "        30     -573.7      3.858"
       ]
      },
      {
       "output_type": "stream",
       "stream": "stdout",
       "text": [
        "\n",
        "        35     -573.7     0.6938"
       ]
      },
      {
       "output_type": "stream",
       "stream": "stdout",
       "text": [
        "\n",
        "54.5981500331"
       ]
      },
      {
       "output_type": "stream",
       "stream": "stdout",
       "text": [
        " 0.947877259353 0.952080706179\n"
       ]
      }
     ],
     "prompt_number": 47
    },
    {
     "cell_type": "code",
     "collapsed": false,
     "input": [
      "#fig = plt.figure()\n",
      "plt.xscale('log')\n",
      "plt.scatter([(i) for i in regs], [acc for acc in accs_val], marker='x')\n",
      "plt.scatter([(i) for i in regs], [acc for acc in accs_train], c='r', marker='x')"
     ],
     "language": "python",
     "metadata": {},
     "outputs": [
      {
       "metadata": {},
       "output_type": "pyout",
       "prompt_number": 56,
       "text": [
        "<matplotlib.collections.PathCollection at 0x27e87e5d0>"
       ]
      },
      {
       "metadata": {},
       "output_type": "display_data",
       "png": "[encoded data removed]",
       "text": [
        "<matplotlib.figure.Figure at 0x27fb202d0>"
       ]
      }
     ],
     "prompt_number": 56
    },
    {
     "cell_type": "code",
     "collapsed": false,
     "input": [
      "from sklearn.metrics import confusion_matrix\n",
      "pr = m.predict(x_train[:100])\n",
      "confusion_matrix(y_train[:100], pr)"
     ],
     "language": "python",
     "metadata": {},
     "outputs": [
      {
       "metadata": {},
       "output_type": "pyout",
       "prompt_number": 28,
       "text": [
        "array([[48,  6],\n",
        "       [ 2, 44]])"
       ]
      }
     ],
     "prompt_number": 28
    },
    {
     "cell_type": "code",
     "collapsed": false,
     "input": [
      "pr = m.predict(x_test[:100])"
     ],
     "language": "python",
     "metadata": {},
     "outputs": [],
     "prompt_number": 47
    },
    {
     "cell_type": "code",
     "collapsed": false,
     "input": [
      "m.predict_proba(x_test[-5:])"
     ],
     "language": "python",
     "metadata": {},
     "outputs": [
      {
       "metadata": {},
       "output_type": "pyout",
       "prompt_number": 48,
       "text": [
        "array([[ 0.52067611,  0.47932389],\n",
        "       [ 0.94023107,  0.05976893],\n",
        "       [ 0.8876581 ,  0.1123419 ],\n",
        "       [ 0.97436928,  0.02563072],\n",
        "       [ 0.1903431 ,  0.8096569 ]])"
       ]
      }
     ],
     "prompt_number": 48
    },
    {
     "cell_type": "code",
     "collapsed": false,
     "input": [
      "confusion_matrix(y_test[:100], pr)"
     ],
     "language": "python",
     "metadata": {},
     "outputs": [
      {
       "metadata": {},
       "output_type": "pyout",
       "prompt_number": 49,
       "text": [
        "array([[38,  6],\n",
        "       [ 5, 51]])"
       ]
      }
     ],
     "prompt_number": 49
    },
    {
     "cell_type": "code",
     "collapsed": false,
     "input": [
      "from sklearn.metrics import confusion_matrix\n",
      "pr = m.predict(x_train[:1000])\n",
      "confusion_matrix(y_train[:1000], pr)"
     ],
     "language": "python",
     "metadata": {},
     "outputs": [],
     "prompt_number": 18
    },
    {
     "cell_type": "code",
     "collapsed": false,
     "input": [
      "for incorrect, correct in ppairs_test[:10]:\n",
      "    test_pairs = [(incorrect, candidate) for _, candidate in ppairs_test[:100]]\n",
      "    x_test = fe.fit_transform(test_pairs)\n",
      "    pr = m.predict_proba(x_test)\n",
      "    cr = zip(pr, test_pairs)\n",
      "    cr = sorted(cr, key=lambda x: -x[0][0])\n",
      "    print cr[:10]\n",
      "    print"
     ],
     "language": "python",
     "metadata": {},
     "outputs": [
      {
       "output_type": "stream",
       "stream": "stdout",
       "text": [
        "[(array([ 0.9075357,  0.0924643]), ('jokies', 'jokes')), (array([ 0.76918358,  0.23081642]), ('jokies', \"justin's\")), (array([ 0.71305846,  0.28694154]), ('jokies', 'followers')), (array([ 0.65158491,  0.34841509]), ('jokies', 'successes')), (array([ 0.63695862,  0.36304138]), ('jokies', 'parties')), (array([ 0.63521529,  0.36478471]), ('jokies', 'announcements')), (array([ 0.61851793,  0.38148207]), ('jokies', 'stresses')), (array([ 0.59501998,  0.40498002]), ('jokies', 'hoes')), (array([ 0.54901787,  0.45098213]), ('jokies', 'friends')), (array([ 0.49363522,  0.50636478]), ('jokies', 'otherwise'))]\n",
        "\n",
        "[(array([ 0.82848453,  0.17151547]), ('payed', 'happened')), (array([ 0.79120793,  0.20879207]), ('payed', 'paid')), (array([ 0.76093275,  0.23906725]), ('payed', 'prayer')), (array([ 0.72207114,  0.27792886]), ('payed', 'paradise')), (array([ 0.69058072,  0.30941928]), ('payed', 'scanned')), (array([ 0.64463729,  0.35536271]), ('payed', 'parties')), (array([ 0.56906732,  0.43093268]), ('payed', 'studied')), (array([ 0.54715076,  0.45284924]), ('payed', 'please')), (array([ 0.52140456,  0.47859544]), ('payed', 'friend')), (array([ 0.51903144,  0.48096856]), ('payed', 'shouted'))]"
       ]
      },
      {
       "output_type": "stream",
       "stream": "stdout",
       "text": [
        "\n",
        "\n",
        "[(array([ 0.97818946,  0.02181054]), ('comming', 'coming')), (array([ 0.8457921,  0.1542079]), ('comming', 'boring')), (array([ 0.82581528,  0.17418472]), ('comming', 'bothering')), (array([ 0.81837512,  0.18162488]), ('comming', 'growing')), (array([ 0.8003223,  0.1996777]), ('comming', 'doing')), (array([ 0.78297937,  0.21702063]), ('comming', 'cousin')), (array([ 0.74382284,  0.25617716]), ('comming', 'giving')), (array([ 0.74119477,  0.25880523]), ('comming', 'living')), (array([ 0.73250762,  0.26749238]), ('comming', 'dancing')), (array([ 0.70630492,  0.29369508]), ('comming', 'wearing'))]"
       ]
      },
      {
       "output_type": "stream",
       "stream": "stdout",
       "text": [
        "\n",
        "\n",
        "[(array([ 0.8995681,  0.1004319]), ('joyyyyyy', 'joy')), (array([ 0.83939736,  0.16060264]), ('joyyyyyy', \"everybody's\")), (array([ 0.79152515,  0.20847485]), ('joyyyyyy', 'only')), (array([ 0.69862926,  0.30137074]), ('joyyyyyy', 'obviously')), (array([ 0.6587433,  0.3412567]), ('joyyyyyy', 'why')), (array([ 0.63784699,  0.36215301]), ('joyyyyyy', 'my')), (array([ 0.63302459,  0.36697541]), ('joyyyyyy', 'bye')), (array([ 0.63302459,  0.36697541]), ('joyyyyyy', 'bye')), (array([ 0.62745153,  0.37254847]), ('joyyyyyy', 'chevy')), (array([ 0.59597341,  0.40402659]), ('joyyyyyy', 'always'))]"
       ]
      },
      {
       "output_type": "stream",
       "stream": "stdout",
       "text": [
        "\n",
        "\n",
        "[(array([ 0.93519034,  0.06480966]), ('growin', 'growing')), (array([ 0.70572105,  0.29427895]), ('growin', 'cousin')), (array([ 0.65830625,  0.34169375]), ('growin', 'giving')), (array([ 0.63331738,  0.36668262]), ('growin', 'boring')), (array([ 0.58429188,  0.41570812]), ('growin', 'explain')), (array([ 0.56620915,  0.43379085]), ('growin', 'freshman')), (array([ 0.56173094,  0.43826906]), ('growin', 'bothering')), (array([ 0.55239034,  0.44760966]), ('growin', 'good')), (array([ 0.51680591,  0.48319409]), ('growin', 'coming')), (array([ 0.51545489,  0.48454511]), ('growin', 'performance'))]"
       ]
      },
      {
       "output_type": "stream",
       "stream": "stdout",
       "text": [
        "\n",
        "\n",
        "[(array([ 0.96740089,  0.03259911]), ('botherin', 'bothering')), (array([ 0.75986985,  0.24013015]), ('botherin', 'boring')), (array([ 0.72470582,  0.27529418]), ('botherin', 'veteran')), (array([ 0.66612213,  0.33387787]), ('botherin', 'cousin')), (array([ 0.66015775,  0.33984225]), ('botherin', 'otherwise')), (array([ 0.54514818,  0.45485182]), ('botherin', 'explain')), (array([ 0.49286121,  0.50713879]), ('botherin', 'freshman')), (array([ 0.45699109,  0.54300891]), ('botherin', 'scientific')), (array([ 0.42802183,  0.57197817]), ('botherin', 'wearing')), (array([ 0.42671849,  0.57328151]), ('botherin', 'growing'))]"
       ]
      },
      {
       "output_type": "stream",
       "stream": "stdout",
       "text": [
        "\n",
        "\n",
        "[(array([ 0.94049219,  0.05950781]), ('konvict', 'convict')), (array([ 0.75899952,  0.24100048]), ('konvict', 'disconnect')), (array([ 0.67389828,  0.32610172]), ('konvict', 'announcements')), (array([ 0.62707637,  0.37292363]), ('konvict', \"don't\")), (array([ 0.61448673,  0.38551327]), ('konvict', 'forecast')), (array([ 0.56888293,  0.43111707]), ('konvict', 'scientific')), (array([ 0.50572728,  0.49427272]), ('konvict', 'official')), (array([ 0.45648533,  0.54351467]), ('konvict', 'boring')), (array([ 0.45313925,  0.54686075]), ('konvict', 'dancing')), (array([ 0.44271069,  0.55728931]), ('konvict', 'coming'))]"
       ]
      },
      {
       "output_type": "stream",
       "stream": "stdout",
       "text": [
        "\n",
        "\n",
        "[(array([ 0.41932886,  0.58067114]), ('da', 'mad')), (array([ 0.38338235,  0.61661765]), ('da', 'road')), (array([ 0.36962713,  0.63037287]), ('da', 'dick')), (array([ 0.34314948,  0.65685052]), ('da', 'what')), (array([ 0.34314948,  0.65685052]), ('da', 'what')), (array([ 0.34169915,  0.65830085]), ('da', 'yeah')), (array([ 0.34068048,  0.65931952]), ('da', 'that')), (array([ 0.32299425,  0.67700575]), ('da', 'doing')), (array([ 0.31202338,  0.68797662]), ('da', \"don't\")), (array([ 0.3099052,  0.6900948]), ('da', 'steam'))]"
       ]
      },
      {
       "output_type": "stream",
       "stream": "stdout",
       "text": [
        "\n",
        "\n",
        "[(array([ 0.92931493,  0.07068507]), ('dickk', 'dick')), (array([ 0.676085,  0.323915]), ('dickk', 'back')), (array([ 0.65403646,  0.34596354]), ('dickk', 'disconnect')), (array([ 0.64474652,  0.35525348]), ('dickk', 'black')), (array([ 0.56119727,  0.43880273]), ('dickk', 'dancing')), (array([ 0.51035121,  0.48964879]), ('dickk', 'douche')), (array([ 0.50559875,  0.49440125]), ('dickk', 'doing')), (array([ 0.43255899,  0.56744101]), ('dickk', 'official')), (array([ 0.39188981,  0.60811019]), ('dickk', 'giving')), (array([ 0.38195112,  0.61804888]), ('dickk', 'living'))]"
       ]
      },
      {
       "output_type": "stream",
       "stream": "stdout",
       "text": [
        "\n",
        "\n",
        "[(array([ 0.87330614,  0.12669386]), ('steem', 'steam')), (array([ 0.7351243,  0.2648757]), ('steem', 'stresses')), (array([ 0.70062491,  0.29937509]), ('steem', 'upstream')), (array([ 0.69708307,  0.30291693]), ('steem', 'them')), (array([ 0.66582849,  0.33417151]), ('steem', 'studied')), (array([ 0.63685503,  0.36314497]), ('steem', 'sister')), (array([ 0.57367044,  0.42632956]), ('steem', 'successes')), (array([ 0.5416002,  0.4583998]), ('steem', 'shouted')), (array([ 0.50753881,  0.49246119]), ('steem', 'same')), (array([ 0.48276769,  0.51723231]), ('steem', 'scanned'))]"
       ]
      },
      {
       "output_type": "stream",
       "stream": "stdout",
       "text": [
        "\n",
        "\n"
       ]
      }
     ],
     "prompt_number": 50
    },
    {
     "cell_type": "code",
     "collapsed": false,
     "input": [
      "import numpy as np\n",
      "[np.exp(i) for i in np.linspace(-10, 5, 15)]"
     ],
     "language": "python",
     "metadata": {},
     "outputs": [
      {
       "metadata": {},
       "output_type": "pyout",
       "prompt_number": 55,
       "text": [
        "[4.5399929762484854e-05,\n",
        " 0.00013254724254567504,\n",
        " 0.0003869779446438603,\n",
        " 0.0011298004150420786,\n",
        " 0.0032985057559390915,\n",
        " 0.0096301435874035259,\n",
        " 0.028115659748972045,\n",
        " 0.0820849986238988,\n",
        " 0.23965103644177574,\n",
        " 0.69967253737512991,\n",
        " 2.0427270702661406,\n",
        " 5.9638383110653308,\n",
        " 17.411708063327659,\n",
        " 50.834305336556568,\n",
        " 148.4131591025766]"
       ]
      }
     ],
     "prompt_number": 55
    },
    {
     "cell_type": "code",
     "collapsed": false,
     "input": [
      "%%timeit\n",
      "fe = StringPairFeatureExtractor(start=True, end=True, match=True, numeric=True, transition=True)\n",
      "x_test = fe.fit_transform([('data base record number 125.',\n",
      "                            'this is another db record, maybe matching'),\n",
      "                           ('data base record number 125.',\n",
      "                            'probably doesn\"t match'),\n",
      "                           ('data base record number 125.',\n",
      "                            'db. record nr 125.'),\n",
      "                           ('data base record number 125.',\n",
      "                            'very very very long record to test how slow this thing can get')])\n",
      "print m.predict_proba(x_test)"
     ],
     "language": "python",
     "metadata": {},
     "outputs": [
      {
       "output_type": "stream",
       "stream": "stdout",
       "text": [
        "[[ 0.6457832   0.3542168 ]\n",
        " [ 0.00104701  0.99895299]\n",
        " [ 0.97668418  0.02331582]\n",
        " [ 0.00135704  0.99864296]]\n",
        "[[ 0.6457832   0.3542168 ]\n",
        " [ 0.00104701  0.99895299]\n",
        " [ 0.97668418  0.02331582]\n",
        " [ 0.00135704  0.99864296]]"
       ]
      },
      {
       "output_type": "stream",
       "stream": "stdout",
       "text": [
        "\n",
        "[[ 0.6457832   0.3542168 ]\n",
        " [ 0.00104701  0.99895299]\n",
        " [ 0.97668418  0.02331582]\n",
        " [ 0.00135704  0.99864296]]"
       ]
      },
      {
       "output_type": "stream",
       "stream": "stdout",
       "text": [
        "\n",
        "[[ 0.6457832   0.3542168 ]\n",
        " [ 0.00104701  0.99895299]\n",
        " [ 0.97668418  0.02331582]\n",
        " [ 0.00135704  0.99864296]]"
       ]
      },
      {
       "output_type": "stream",
       "stream": "stdout",
       "text": [
        "\n",
        "1 loops, best of 3: 797 ms per loop\n"
       ]
      }
     ],
     "prompt_number": 194
    },
    {
     "cell_type": "code",
     "collapsed": false,
     "input": [
      "np.log(4.172)"
     ],
     "language": "python",
     "metadata": {},
     "outputs": [
      {
       "metadata": {},
       "output_type": "pyout",
       "prompt_number": 57,
       "text": [
        "1.428395537138526"
       ]
      }
     ],
     "prompt_number": 57
    }
   ],
   "metadata": {}
  }
 ]
}